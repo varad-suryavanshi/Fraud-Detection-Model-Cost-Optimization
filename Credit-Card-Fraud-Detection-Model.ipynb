{
  "cells": [
    {
      "cell_type": "code",
      "execution_count": 1,
      "metadata": {
        "id": "HDaApcBRImlD"
      },
      "outputs": [],
      "source": [
        "from datetime import datetime, date\n",
        "import copy as cp\n",
        "import pandas as pd\n",
        "import numpy  as np\n",
        "import matplotlib.pyplot as plt\n",
        "import scipy.stats as stats\n",
        "\n",
        "from IPython.core.magic import register_cell_magic\n",
        "from IPython.display import HTML, display\n",
        "\n",
        "import statsmodels.formula.api as sm\n",
        "\n",
        "\n",
        "from sklearn import preprocessing\n",
        "from sklearn.model_selection import train_test_split\n",
        "from sklearn.tree import DecisionTreeClassifier\n",
        "from sklearn import metrics\n",
        "from sklearn import tree\n",
        "from sklearn.metrics import roc_curve, auc, roc_auc_score\n",
        "\n",
        "\n",
        "DATA_PATH = \"/content/\"\n",
        "DATA_FN   = \"cc_transactions.csv\"\n",
        "TODAY = date.today()"
      ]
    },
    {
      "cell_type": "markdown",
      "metadata": {
        "id": "WrCl9YdPHj9y"
      },
      "source": [
        "#  <span style=\"font-family: Palatino; font-size: 30px; color:purple\">Business context </span>"
      ]
    },
    {
      "cell_type": "markdown",
      "metadata": {
        "id": "BvjSvvO1Hj9z"
      },
      "source": [
        "We have been asked by the CSO (Chief  Security Officer), Xufeng, at MasterVista, a credit card company, to develop a fraud detection model to spot credit card transactions that may be suspicious.  MasterVista is concerned that some fraud-detection systems are not practical as they either cost too much to run or are difficult to explain to senior management and regulators.\n",
        "\n",
        "Therefore, in addition to developing two models for predicting the probability that a prospective transaction is fraudulent, you will need to determine the value of each model, so that Xufeng can determine which model to recommend to the the Senior Management team."
      ]
    },
    {
      "cell_type": "markdown",
      "metadata": {
        "id": "k5bAIr2VHj9z"
      },
      "source": [
        "### Helper function"
      ]
    },
    {
      "cell_type": "code",
      "execution_count": 2,
      "metadata": {
        "code_folding": [],
        "id": "MJg1MdRWHj9z"
      },
      "outputs": [],
      "source": [
        "def calc_age(birthday):\n",
        "    today = date.today()\n",
        "    return today.year - birthday.year - ((today.month, today.day) < (birthday.month, birthday.day))"
      ]
    },
    {
      "cell_type": "markdown",
      "metadata": {
        "id": "d1S3dGy3Hj9z"
      },
      "source": [
        "#  <span style=\"font-family: Palatino; font-size: 30px; color:purple\">The data </span>"
      ]
    },
    {
      "cell_type": "markdown",
      "metadata": {
        "id": "bRmXFixiHj9z"
      },
      "source": [
        "The data can be found in the file `cc_tranactions.csv`.  \n",
        "\n",
        "The dataset contains individual credit card transactions over a the period 01-01-2019 - 12-31-2021.  The transactions only represent a small subset of all users that we have sampled to keep the size of the dataset manageable.  The data dictionary is given below.\n",
        "\n",
        "The data set contains 1,997,859 observations of 26 variables per transaction.\n",
        "\n",
        "_(Note that for purposes of this home work, the data are synthetic, but based on a real data set.  We do this to avoid privacy issues.  Also note that we are making some simplifying assumptions about the costs and benefits of transactions, etc.)_"
      ]
    },
    {
      "cell_type": "markdown",
      "metadata": {
        "id": "Ju9FTXj6Hj9z"
      },
      "source": [
        "### Data Dictionary"
      ]
    },
    {
      "cell_type": "markdown",
      "metadata": {
        "id": "5fUWFAFKHj9z"
      },
      "source": [
        " <!-- | __variable__   | __Description__ |\n",
        " | :--            | -:-             |\n",
        " | ` ssn `        | Social Security number\n",
        " | ` cc_num `     | Credit card number\n",
        " | ` first `      | First name\n",
        " | ` last `       | Last name\n",
        " | ` gender `     | Gender\n",
        " | ` street `     | Street address\n",
        " | ` city `       | City of residence\n",
        " | ` state `      | State of residence\n",
        " | ` zip `        | Postal code of residence\n",
        " | ` lat `        | Latitude of residence\n",
        " | ` long `       | Longitude of residence\n",
        " | ` city_pop   ` | Population of city of residence\n",
        " | ` job `        | Job title\n",
        " | ` dob `        | Date of birth\n",
        " | ` acct_num `   | User acct number\n",
        " | ` profile `    | Demographic cluster\n",
        " | ` trans_num `  | Transaction number\n",
        " | ` trans_date ` | Transaction date\n",
        " | ` trans_time ` | Transaction time\n",
        " | ` unix_time `  | UNIX time of transaction\n",
        " | ` category `   | Type of product\n",
        " | ` amt `        | Transaction amt\n",
        " | ` is_fraud `   | Dummy indicating fraud (1) or no-fraud (0)\n",
        " | ` merchant `   | Name of merchant executing transaction\n",
        " | ` merch_lat `  | Latitude of merchant location\n",
        " | ` merch_long ` | Longitude of merchant location\n",
        "  -->\n",
        "\n",
        "| Variable    | Description                         |\n",
        "|------------ | ----------------------------------- |\n",
        "| `ssn`       | Social Security number              |\n",
        "| `cc_num`    | Credit card number                  |\n",
        "| `first`     | First name                          |\n",
        "| `last`      | Last name                           |\n",
        "| `gender`    | Gender                              |\n",
        "| `street`    | Street address                      |\n",
        "| `city`      | City of residence                   |\n",
        "| `state`     | State of residence                  |\n",
        "| `zip`       | Postal code of residence            |\n",
        "| `lat`       | Latitude of residence               |\n",
        "| `long`      | Longitude of residence              |\n",
        "| `city_pop`  | Population of city of residence     |\n",
        "| `job`       | Job title                           |\n",
        "| `dob`       | Date of birth                       |\n",
        "| `acct_num`  | User acct number                    |\n",
        "| `profile`   | Demographic cluster                 |\n",
        "| `trans_num` | Transaction number                  |\n",
        "| `trans_date`| Transaction date                    |\n",
        "| `trans_time`| Transaction time                    |\n",
        "| `unix_time` | UNIX time of transaction            |\n",
        "| `category`  | Type of product                     |\n",
        "| `amt`       | Transaction amt                     |\n",
        "| `is_fraud`  | Dummy indicating fraud (1) or no-fraud (0) |\n",
        "| `merchant`  | Name of merchant executing transaction |\n",
        "| `merch_lat` | Latitude of merchant location        |\n",
        "| `merch_long`| Longitude of merchant location       |\n"
      ]
    },
    {
      "cell_type": "markdown",
      "metadata": {
        "id": "ya1TSLAgHj9z"
      },
      "source": [
        "### Selected data summaries"
      ]
    },
    {
      "cell_type": "markdown",
      "metadata": {
        "id": "8FKP4xalHj9z"
      },
      "source": [
        "#### `is_fraud`"
      ]
    },
    {
      "cell_type": "markdown",
      "metadata": {
        "id": "N6yoM3_eHj90"
      },
      "source": [
        "| __label__   | __count__\n",
        "| :--   | :-- |    \n",
        "| 0  |  1,990,508\n",
        "| 1  |    7,351"
      ]
    },
    {
      "cell_type": "markdown",
      "metadata": {
        "id": "_kjKiAfjHj90"
      },
      "source": [
        "#### `profile`"
      ]
    },
    {
      "cell_type": "markdown",
      "metadata": {
        "id": "RjDVRufwHj90"
      },
      "source": [
        " <!-- | __label__   | __count__\n",
        " | :--   | :-- |    \n",
        "adults_2550_female_rural |  19738\n",
        "adults_2550_female_urban | 573037\n",
        "adults_2550_male_rural |    21969\n",
        "adults_2550_male_urban |   497764\n",
        "adults_50up_female_rural |   8756\n",
        "adults_50up_female_urban | 299042\n",
        "adults_50up_male_rural |    20862\n",
        "adults_50up_male_urban |   303322\n",
        "young_adults_female_rural |  7686\n",
        "young_adults_female_urban    119580\n",
        "young_adults_male_rural |    6577\n",
        "young_adults_male_urban |  119526 -->\n",
        "\n",
        "| __label__                | __count__   |\n",
        "|:-------------------------|-------------:|\n",
        "| adults_2550_female_rural | 19,738      |\n",
        "| adults_2550_female_urban | 573,037     |\n",
        "| adults_2550_male_rural   | 21,969      |\n",
        "| adults_2550_male_urban   | 497,764     |\n",
        "| adults_50up_female_rural | 8,756       |\n",
        "| adults_50up_female_urban | 299,042     |\n",
        "| adults_50up_male_rural   | 20,862      |\n",
        "| adults_50up_male_urban   | 303,322     |\n",
        "| young_adults_female_rural | 7,686      |\n",
        "| young_adults_female_urban | 119,580    |\n",
        "| young_adults_male_rural   | 6,577      |\n",
        "| young_adults_male_urban   | 119,526    |\n"
      ]
    },
    {
      "cell_type": "markdown",
      "metadata": {
        "id": "eJ0xtKWDHj90"
      },
      "source": [
        "#### `category`"
      ]
    },
    {
      "cell_type": "markdown",
      "metadata": {
        "id": "M3mF_mGEHj90"
      },
      "source": [
        " | __Label__   | __count__\n",
        " | :--| --:|  \n",
        "entertainment |   145,896 |\n",
        "food_dining   |   150,670\n",
        "gas_transport |   170,316\n",
        "grocery_net   |    86,063\n",
        "grocery_pos   |   187,250\n",
        "health_fitness|   124,189\n",
        "home          |   186,835\n",
        "kids_pets     |   174,024\n",
        "misc_net      |    90,653\n",
        "misc_pos      |   131,483\n",
        "personal_care |   141,152\n",
        "shopping_net  |   146,755\n",
        "shopping_pos  |   198,182\n",
        "travel        |    64,391"
      ]
    },
    {
      "cell_type": "markdown",
      "metadata": {
        "id": "eOmJffJCHj90"
      },
      "source": [
        "### Load the data\n"
      ]
    },
    {
      "cell_type": "code",
      "execution_count": 3,
      "metadata": {
        "colab": {
          "base_uri": "https://localhost:8080/",
          "height": 620
        },
        "id": "n_t0HCl_uYL5",
        "outputId": "c59247a9-460a-4f20-c784-cbbf85c3fb96"
      },
      "outputs": [
        {
          "data": {
            "application/vnd.google.colaboratory.intrinsic+json": {
              "type": "dataframe",
              "variable_name": "df"
            },
            "text/html": [
              "\n",
              "  <div id=\"df-37a0c11d-81d3-4dde-8064-b4163a533795\" class=\"colab-df-container\">\n",
              "    <div>\n",
              "<style scoped>\n",
              "    .dataframe tbody tr th:only-of-type {\n",
              "        vertical-align: middle;\n",
              "    }\n",
              "\n",
              "    .dataframe tbody tr th {\n",
              "        vertical-align: top;\n",
              "    }\n",
              "\n",
              "    .dataframe thead th {\n",
              "        text-align: right;\n",
              "    }\n",
              "</style>\n",
              "<table border=\"1\" class=\"dataframe\">\n",
              "  <thead>\n",
              "    <tr style=\"text-align: right;\">\n",
              "      <th></th>\n",
              "      <th>Unnamed: 0</th>\n",
              "      <th>ssn</th>\n",
              "      <th>cc_num</th>\n",
              "      <th>first</th>\n",
              "      <th>last</th>\n",
              "      <th>gender</th>\n",
              "      <th>street</th>\n",
              "      <th>city</th>\n",
              "      <th>state</th>\n",
              "      <th>zip</th>\n",
              "      <th>...</th>\n",
              "      <th>trans_num</th>\n",
              "      <th>trans_date</th>\n",
              "      <th>trans_time</th>\n",
              "      <th>unix_time</th>\n",
              "      <th>category</th>\n",
              "      <th>amt</th>\n",
              "      <th>is_fraud</th>\n",
              "      <th>merchant</th>\n",
              "      <th>merch_lat</th>\n",
              "      <th>merch_long</th>\n",
              "    </tr>\n",
              "  </thead>\n",
              "  <tbody>\n",
              "    <tr>\n",
              "      <th>0</th>\n",
              "      <td>0</td>\n",
              "      <td>167-80-6754</td>\n",
              "      <td>3526342637293304</td>\n",
              "      <td>Jonathan</td>\n",
              "      <td>Thomas</td>\n",
              "      <td>M</td>\n",
              "      <td>373 Sandra Brooks Suite 015</td>\n",
              "      <td>Arenzville</td>\n",
              "      <td>IL</td>\n",
              "      <td>62611</td>\n",
              "      <td>...</td>\n",
              "      <td>bebc2bdfbbe34520ce18d7ae79865a30</td>\n",
              "      <td>2021-07-01</td>\n",
              "      <td>02:47:05</td>\n",
              "      <td>1625122025</td>\n",
              "      <td>grocery_pos</td>\n",
              "      <td>343.23</td>\n",
              "      <td>1</td>\n",
              "      <td>Rutherford-Mertz</td>\n",
              "      <td>40.268151</td>\n",
              "      <td>-90.175379</td>\n",
              "    </tr>\n",
              "    <tr>\n",
              "      <th>1</th>\n",
              "      <td>1</td>\n",
              "      <td>167-80-6754</td>\n",
              "      <td>3526342637293304</td>\n",
              "      <td>Jonathan</td>\n",
              "      <td>Thomas</td>\n",
              "      <td>M</td>\n",
              "      <td>373 Sandra Brooks Suite 015</td>\n",
              "      <td>Arenzville</td>\n",
              "      <td>IL</td>\n",
              "      <td>62611</td>\n",
              "      <td>...</td>\n",
              "      <td>12d1285fead521e4ced9e6c257e7c224</td>\n",
              "      <td>2021-07-02</td>\n",
              "      <td>13:53:00</td>\n",
              "      <td>1625248380</td>\n",
              "      <td>shopping_net</td>\n",
              "      <td>302.89</td>\n",
              "      <td>1</td>\n",
              "      <td>Predovic Inc</td>\n",
              "      <td>39.148351</td>\n",
              "      <td>-90.964542</td>\n",
              "    </tr>\n",
              "    <tr>\n",
              "      <th>2</th>\n",
              "      <td>2</td>\n",
              "      <td>167-80-6754</td>\n",
              "      <td>3526342637293304</td>\n",
              "      <td>Jonathan</td>\n",
              "      <td>Thomas</td>\n",
              "      <td>M</td>\n",
              "      <td>373 Sandra Brooks Suite 015</td>\n",
              "      <td>Arenzville</td>\n",
              "      <td>IL</td>\n",
              "      <td>62611</td>\n",
              "      <td>...</td>\n",
              "      <td>18e577de79b3bf085047705609407063</td>\n",
              "      <td>2021-07-02</td>\n",
              "      <td>23:35:50</td>\n",
              "      <td>1625283350</td>\n",
              "      <td>shopping_net</td>\n",
              "      <td>959.42</td>\n",
              "      <td>1</td>\n",
              "      <td>Schmidt and Sons</td>\n",
              "      <td>40.576454</td>\n",
              "      <td>-90.010449</td>\n",
              "    </tr>\n",
              "    <tr>\n",
              "      <th>3</th>\n",
              "      <td>3</td>\n",
              "      <td>167-80-6754</td>\n",
              "      <td>3526342637293304</td>\n",
              "      <td>Jonathan</td>\n",
              "      <td>Thomas</td>\n",
              "      <td>M</td>\n",
              "      <td>373 Sandra Brooks Suite 015</td>\n",
              "      <td>Arenzville</td>\n",
              "      <td>IL</td>\n",
              "      <td>62611</td>\n",
              "      <td>...</td>\n",
              "      <td>d88bf31e8e2834521556f483584bd91f</td>\n",
              "      <td>2021-07-01</td>\n",
              "      <td>23:21:46</td>\n",
              "      <td>1625196106</td>\n",
              "      <td>grocery_pos</td>\n",
              "      <td>982.90</td>\n",
              "      <td>1</td>\n",
              "      <td>Kovacek, Dibbert and Ondricka</td>\n",
              "      <td>40.647832</td>\n",
              "      <td>-91.313098</td>\n",
              "    </tr>\n",
              "    <tr>\n",
              "      <th>4</th>\n",
              "      <td>4</td>\n",
              "      <td>167-80-6754</td>\n",
              "      <td>3526342637293304</td>\n",
              "      <td>Jonathan</td>\n",
              "      <td>Thomas</td>\n",
              "      <td>M</td>\n",
              "      <td>373 Sandra Brooks Suite 015</td>\n",
              "      <td>Arenzville</td>\n",
              "      <td>IL</td>\n",
              "      <td>62611</td>\n",
              "      <td>...</td>\n",
              "      <td>938e1b0e3602e4bae52c398a381c6b11</td>\n",
              "      <td>2021-07-02</td>\n",
              "      <td>23:22:36</td>\n",
              "      <td>1625282556</td>\n",
              "      <td>shopping_net</td>\n",
              "      <td>1008.03</td>\n",
              "      <td>1</td>\n",
              "      <td>Lemke-Gutmann</td>\n",
              "      <td>40.775791</td>\n",
              "      <td>-89.907877</td>\n",
              "    </tr>\n",
              "  </tbody>\n",
              "</table>\n",
              "<p>5 rows × 27 columns</p>\n",
              "</div>\n",
              "    <div class=\"colab-df-buttons\">\n",
              "\n",
              "  <div class=\"colab-df-container\">\n",
              "    <button class=\"colab-df-convert\" onclick=\"convertToInteractive('df-37a0c11d-81d3-4dde-8064-b4163a533795')\"\n",
              "            title=\"Convert this dataframe to an interactive table.\"\n",
              "            style=\"display:none;\">\n",
              "\n",
              "  <svg xmlns=\"http://www.w3.org/2000/svg\" height=\"24px\" viewBox=\"0 -960 960 960\">\n",
              "    <path d=\"M120-120v-720h720v720H120Zm60-500h600v-160H180v160Zm220 220h160v-160H400v160Zm0 220h160v-160H400v160ZM180-400h160v-160H180v160Zm440 0h160v-160H620v160ZM180-180h160v-160H180v160Zm440 0h160v-160H620v160Z\"/>\n",
              "  </svg>\n",
              "    </button>\n",
              "\n",
              "  <style>\n",
              "    .colab-df-container {\n",
              "      display:flex;\n",
              "      gap: 12px;\n",
              "    }\n",
              "\n",
              "    .colab-df-convert {\n",
              "      background-color: #E8F0FE;\n",
              "      border: none;\n",
              "      border-radius: 50%;\n",
              "      cursor: pointer;\n",
              "      display: none;\n",
              "      fill: #1967D2;\n",
              "      height: 32px;\n",
              "      padding: 0 0 0 0;\n",
              "      width: 32px;\n",
              "    }\n",
              "\n",
              "    .colab-df-convert:hover {\n",
              "      background-color: #E2EBFA;\n",
              "      box-shadow: 0px 1px 2px rgba(60, 64, 67, 0.3), 0px 1px 3px 1px rgba(60, 64, 67, 0.15);\n",
              "      fill: #174EA6;\n",
              "    }\n",
              "\n",
              "    .colab-df-buttons div {\n",
              "      margin-bottom: 4px;\n",
              "    }\n",
              "\n",
              "    [theme=dark] .colab-df-convert {\n",
              "      background-color: #3B4455;\n",
              "      fill: #D2E3FC;\n",
              "    }\n",
              "\n",
              "    [theme=dark] .colab-df-convert:hover {\n",
              "      background-color: #434B5C;\n",
              "      box-shadow: 0px 1px 3px 1px rgba(0, 0, 0, 0.15);\n",
              "      filter: drop-shadow(0px 1px 2px rgba(0, 0, 0, 0.3));\n",
              "      fill: #FFFFFF;\n",
              "    }\n",
              "  </style>\n",
              "\n",
              "    <script>\n",
              "      const buttonEl =\n",
              "        document.querySelector('#df-37a0c11d-81d3-4dde-8064-b4163a533795 button.colab-df-convert');\n",
              "      buttonEl.style.display =\n",
              "        google.colab.kernel.accessAllowed ? 'block' : 'none';\n",
              "\n",
              "      async function convertToInteractive(key) {\n",
              "        const element = document.querySelector('#df-37a0c11d-81d3-4dde-8064-b4163a533795');\n",
              "        const dataTable =\n",
              "          await google.colab.kernel.invokeFunction('convertToInteractive',\n",
              "                                                    [key], {});\n",
              "        if (!dataTable) return;\n",
              "\n",
              "        const docLinkHtml = 'Like what you see? Visit the ' +\n",
              "          '<a target=\"_blank\" href=https://colab.research.google.com/notebooks/data_table.ipynb>data table notebook</a>'\n",
              "          + ' to learn more about interactive tables.';\n",
              "        element.innerHTML = '';\n",
              "        dataTable['output_type'] = 'display_data';\n",
              "        await google.colab.output.renderOutput(dataTable, element);\n",
              "        const docLink = document.createElement('div');\n",
              "        docLink.innerHTML = docLinkHtml;\n",
              "        element.appendChild(docLink);\n",
              "      }\n",
              "    </script>\n",
              "  </div>\n",
              "\n",
              "\n",
              "<div id=\"df-8e6d6a60-b378-4462-ab89-c91c4f4eaeb7\">\n",
              "  <button class=\"colab-df-quickchart\" onclick=\"quickchart('df-8e6d6a60-b378-4462-ab89-c91c4f4eaeb7')\"\n",
              "            title=\"Suggest charts\"\n",
              "            style=\"display:none;\">\n",
              "\n",
              "<svg xmlns=\"http://www.w3.org/2000/svg\" height=\"24px\"viewBox=\"0 0 24 24\"\n",
              "     width=\"24px\">\n",
              "    <g>\n",
              "        <path d=\"M19 3H5c-1.1 0-2 .9-2 2v14c0 1.1.9 2 2 2h14c1.1 0 2-.9 2-2V5c0-1.1-.9-2-2-2zM9 17H7v-7h2v7zm4 0h-2V7h2v10zm4 0h-2v-4h2v4z\"/>\n",
              "    </g>\n",
              "</svg>\n",
              "  </button>\n",
              "\n",
              "<style>\n",
              "  .colab-df-quickchart {\n",
              "      --bg-color: #E8F0FE;\n",
              "      --fill-color: #1967D2;\n",
              "      --hover-bg-color: #E2EBFA;\n",
              "      --hover-fill-color: #174EA6;\n",
              "      --disabled-fill-color: #AAA;\n",
              "      --disabled-bg-color: #DDD;\n",
              "  }\n",
              "\n",
              "  [theme=dark] .colab-df-quickchart {\n",
              "      --bg-color: #3B4455;\n",
              "      --fill-color: #D2E3FC;\n",
              "      --hover-bg-color: #434B5C;\n",
              "      --hover-fill-color: #FFFFFF;\n",
              "      --disabled-bg-color: #3B4455;\n",
              "      --disabled-fill-color: #666;\n",
              "  }\n",
              "\n",
              "  .colab-df-quickchart {\n",
              "    background-color: var(--bg-color);\n",
              "    border: none;\n",
              "    border-radius: 50%;\n",
              "    cursor: pointer;\n",
              "    display: none;\n",
              "    fill: var(--fill-color);\n",
              "    height: 32px;\n",
              "    padding: 0;\n",
              "    width: 32px;\n",
              "  }\n",
              "\n",
              "  .colab-df-quickchart:hover {\n",
              "    background-color: var(--hover-bg-color);\n",
              "    box-shadow: 0 1px 2px rgba(60, 64, 67, 0.3), 0 1px 3px 1px rgba(60, 64, 67, 0.15);\n",
              "    fill: var(--button-hover-fill-color);\n",
              "  }\n",
              "\n",
              "  .colab-df-quickchart-complete:disabled,\n",
              "  .colab-df-quickchart-complete:disabled:hover {\n",
              "    background-color: var(--disabled-bg-color);\n",
              "    fill: var(--disabled-fill-color);\n",
              "    box-shadow: none;\n",
              "  }\n",
              "\n",
              "  .colab-df-spinner {\n",
              "    border: 2px solid var(--fill-color);\n",
              "    border-color: transparent;\n",
              "    border-bottom-color: var(--fill-color);\n",
              "    animation:\n",
              "      spin 1s steps(1) infinite;\n",
              "  }\n",
              "\n",
              "  @keyframes spin {\n",
              "    0% {\n",
              "      border-color: transparent;\n",
              "      border-bottom-color: var(--fill-color);\n",
              "      border-left-color: var(--fill-color);\n",
              "    }\n",
              "    20% {\n",
              "      border-color: transparent;\n",
              "      border-left-color: var(--fill-color);\n",
              "      border-top-color: var(--fill-color);\n",
              "    }\n",
              "    30% {\n",
              "      border-color: transparent;\n",
              "      border-left-color: var(--fill-color);\n",
              "      border-top-color: var(--fill-color);\n",
              "      border-right-color: var(--fill-color);\n",
              "    }\n",
              "    40% {\n",
              "      border-color: transparent;\n",
              "      border-right-color: var(--fill-color);\n",
              "      border-top-color: var(--fill-color);\n",
              "    }\n",
              "    60% {\n",
              "      border-color: transparent;\n",
              "      border-right-color: var(--fill-color);\n",
              "    }\n",
              "    80% {\n",
              "      border-color: transparent;\n",
              "      border-right-color: var(--fill-color);\n",
              "      border-bottom-color: var(--fill-color);\n",
              "    }\n",
              "    90% {\n",
              "      border-color: transparent;\n",
              "      border-bottom-color: var(--fill-color);\n",
              "    }\n",
              "  }\n",
              "</style>\n",
              "\n",
              "  <script>\n",
              "    async function quickchart(key) {\n",
              "      const quickchartButtonEl =\n",
              "        document.querySelector('#' + key + ' button');\n",
              "      quickchartButtonEl.disabled = true;  // To prevent multiple clicks.\n",
              "      quickchartButtonEl.classList.add('colab-df-spinner');\n",
              "      try {\n",
              "        const charts = await google.colab.kernel.invokeFunction(\n",
              "            'suggestCharts', [key], {});\n",
              "      } catch (error) {\n",
              "        console.error('Error during call to suggestCharts:', error);\n",
              "      }\n",
              "      quickchartButtonEl.classList.remove('colab-df-spinner');\n",
              "      quickchartButtonEl.classList.add('colab-df-quickchart-complete');\n",
              "    }\n",
              "    (() => {\n",
              "      let quickchartButtonEl =\n",
              "        document.querySelector('#df-8e6d6a60-b378-4462-ab89-c91c4f4eaeb7 button');\n",
              "      quickchartButtonEl.style.display =\n",
              "        google.colab.kernel.accessAllowed ? 'block' : 'none';\n",
              "    })();\n",
              "  </script>\n",
              "</div>\n",
              "\n",
              "    </div>\n",
              "  </div>\n"
            ],
            "text/plain": [
              "   Unnamed: 0          ssn            cc_num     first    last gender  \\\n",
              "0           0  167-80-6754  3526342637293304  Jonathan  Thomas      M   \n",
              "1           1  167-80-6754  3526342637293304  Jonathan  Thomas      M   \n",
              "2           2  167-80-6754  3526342637293304  Jonathan  Thomas      M   \n",
              "3           3  167-80-6754  3526342637293304  Jonathan  Thomas      M   \n",
              "4           4  167-80-6754  3526342637293304  Jonathan  Thomas      M   \n",
              "\n",
              "                        street        city state    zip  ...  \\\n",
              "0  373 Sandra Brooks Suite 015  Arenzville    IL  62611  ...   \n",
              "1  373 Sandra Brooks Suite 015  Arenzville    IL  62611  ...   \n",
              "2  373 Sandra Brooks Suite 015  Arenzville    IL  62611  ...   \n",
              "3  373 Sandra Brooks Suite 015  Arenzville    IL  62611  ...   \n",
              "4  373 Sandra Brooks Suite 015  Arenzville    IL  62611  ...   \n",
              "\n",
              "                          trans_num  trans_date  trans_time   unix_time  \\\n",
              "0  bebc2bdfbbe34520ce18d7ae79865a30  2021-07-01    02:47:05  1625122025   \n",
              "1  12d1285fead521e4ced9e6c257e7c224  2021-07-02    13:53:00  1625248380   \n",
              "2  18e577de79b3bf085047705609407063  2021-07-02    23:35:50  1625283350   \n",
              "3  d88bf31e8e2834521556f483584bd91f  2021-07-01    23:21:46  1625196106   \n",
              "4  938e1b0e3602e4bae52c398a381c6b11  2021-07-02    23:22:36  1625282556   \n",
              "\n",
              "       category      amt is_fraud                       merchant  merch_lat  \\\n",
              "0   grocery_pos   343.23        1               Rutherford-Mertz  40.268151   \n",
              "1  shopping_net   302.89        1                   Predovic Inc  39.148351   \n",
              "2  shopping_net   959.42        1               Schmidt and Sons  40.576454   \n",
              "3   grocery_pos   982.90        1  Kovacek, Dibbert and Ondricka  40.647832   \n",
              "4  shopping_net  1008.03        1                  Lemke-Gutmann  40.775791   \n",
              "\n",
              "  merch_long  \n",
              "0 -90.175379  \n",
              "1 -90.964542  \n",
              "2 -90.010449  \n",
              "3 -91.313098  \n",
              "4 -89.907877  \n",
              "\n",
              "[5 rows x 27 columns]"
            ]
          },
          "execution_count": 3,
          "metadata": {},
          "output_type": "execute_result"
        }
      ],
      "source": [
        "df = pd.read_csv(DATA_PATH + DATA_FN)\n",
        "df.head()"
      ]
    },
    {
      "cell_type": "code",
      "execution_count": 4,
      "metadata": {
        "colab": {
          "base_uri": "https://localhost:8080/"
        },
        "id": "Zw-kupiqu0MM",
        "outputId": "28035ecc-4049-4f99-9ccb-25ce87d9cc08"
      },
      "outputs": [
        {
          "data": {
            "text/plain": [
              "(1997859, 27)"
            ]
          },
          "execution_count": 4,
          "metadata": {},
          "output_type": "execute_result"
        }
      ],
      "source": [
        "df.shape"
      ]
    },
    {
      "cell_type": "markdown",
      "metadata": {
        "id": "5E2gbAweHj90"
      },
      "source": [
        "# <span style=\"font-family: Palatino; font-size: 24px; color:purple\">Model building </span>"
      ]
    },
    {
      "cell_type": "markdown",
      "metadata": {
        "id": "7jAl5Fg1Hj90"
      },
      "source": [
        "### Preprocessing"
      ]
    },
    {
      "cell_type": "markdown",
      "metadata": {
        "id": "WzVXRMU6Hj90"
      },
      "source": [
        "#### For each record, calculate the age of the customer based on `dob` and the day of the week of the transaction."
      ]
    },
    {
      "cell_type": "code",
      "execution_count": 5,
      "metadata": {
        "id": "OlFlBDIhxkd4"
      },
      "outputs": [],
      "source": [
        "df['dob'] = pd.to_datetime(df['dob'])\n",
        "df['trans_date'] = pd.to_datetime(df['trans_date'])\n",
        "\n",
        "# Calculate age\n",
        "df['age'] = df.apply(lambda row: calc_age(row['dob']), axis=1)"
      ]
    },
    {
      "cell_type": "code",
      "execution_count": 6,
      "metadata": {
        "id": "JzvaraWO3ceN"
      },
      "outputs": [],
      "source": [
        "df['trans_date_trans_time'] = pd.to_datetime(df['trans_date'].astype(str) + ' ' + df['trans_time'])"
      ]
    },
    {
      "cell_type": "code",
      "execution_count": 7,
      "metadata": {
        "colab": {
          "base_uri": "https://localhost:8080/",
          "height": 620
        },
        "id": "GNHI_rSwyRf4",
        "outputId": "60b8480e-4f79-4953-f2e5-f80367ea1627"
      },
      "outputs": [
        {
          "data": {
            "application/vnd.google.colaboratory.intrinsic+json": {
              "type": "dataframe",
              "variable_name": "df"
            },
            "text/html": [
              "\n",
              "  <div id=\"df-ae4bd307-d526-45ed-b9c3-cea4194cb587\" class=\"colab-df-container\">\n",
              "    <div>\n",
              "<style scoped>\n",
              "    .dataframe tbody tr th:only-of-type {\n",
              "        vertical-align: middle;\n",
              "    }\n",
              "\n",
              "    .dataframe tbody tr th {\n",
              "        vertical-align: top;\n",
              "    }\n",
              "\n",
              "    .dataframe thead th {\n",
              "        text-align: right;\n",
              "    }\n",
              "</style>\n",
              "<table border=\"1\" class=\"dataframe\">\n",
              "  <thead>\n",
              "    <tr style=\"text-align: right;\">\n",
              "      <th></th>\n",
              "      <th>Unnamed: 0</th>\n",
              "      <th>ssn</th>\n",
              "      <th>cc_num</th>\n",
              "      <th>first</th>\n",
              "      <th>last</th>\n",
              "      <th>gender</th>\n",
              "      <th>street</th>\n",
              "      <th>city</th>\n",
              "      <th>state</th>\n",
              "      <th>zip</th>\n",
              "      <th>...</th>\n",
              "      <th>trans_time</th>\n",
              "      <th>unix_time</th>\n",
              "      <th>category</th>\n",
              "      <th>amt</th>\n",
              "      <th>is_fraud</th>\n",
              "      <th>merchant</th>\n",
              "      <th>merch_lat</th>\n",
              "      <th>merch_long</th>\n",
              "      <th>age</th>\n",
              "      <th>trans_date_trans_time</th>\n",
              "    </tr>\n",
              "  </thead>\n",
              "  <tbody>\n",
              "    <tr>\n",
              "      <th>0</th>\n",
              "      <td>0</td>\n",
              "      <td>167-80-6754</td>\n",
              "      <td>3526342637293304</td>\n",
              "      <td>Jonathan</td>\n",
              "      <td>Thomas</td>\n",
              "      <td>M</td>\n",
              "      <td>373 Sandra Brooks Suite 015</td>\n",
              "      <td>Arenzville</td>\n",
              "      <td>IL</td>\n",
              "      <td>62611</td>\n",
              "      <td>...</td>\n",
              "      <td>02:47:05</td>\n",
              "      <td>1625122025</td>\n",
              "      <td>grocery_pos</td>\n",
              "      <td>343.23</td>\n",
              "      <td>1</td>\n",
              "      <td>Rutherford-Mertz</td>\n",
              "      <td>40.268151</td>\n",
              "      <td>-90.175379</td>\n",
              "      <td>70</td>\n",
              "      <td>2021-07-01 02:47:05</td>\n",
              "    </tr>\n",
              "    <tr>\n",
              "      <th>1</th>\n",
              "      <td>1</td>\n",
              "      <td>167-80-6754</td>\n",
              "      <td>3526342637293304</td>\n",
              "      <td>Jonathan</td>\n",
              "      <td>Thomas</td>\n",
              "      <td>M</td>\n",
              "      <td>373 Sandra Brooks Suite 015</td>\n",
              "      <td>Arenzville</td>\n",
              "      <td>IL</td>\n",
              "      <td>62611</td>\n",
              "      <td>...</td>\n",
              "      <td>13:53:00</td>\n",
              "      <td>1625248380</td>\n",
              "      <td>shopping_net</td>\n",
              "      <td>302.89</td>\n",
              "      <td>1</td>\n",
              "      <td>Predovic Inc</td>\n",
              "      <td>39.148351</td>\n",
              "      <td>-90.964542</td>\n",
              "      <td>70</td>\n",
              "      <td>2021-07-02 13:53:00</td>\n",
              "    </tr>\n",
              "    <tr>\n",
              "      <th>2</th>\n",
              "      <td>2</td>\n",
              "      <td>167-80-6754</td>\n",
              "      <td>3526342637293304</td>\n",
              "      <td>Jonathan</td>\n",
              "      <td>Thomas</td>\n",
              "      <td>M</td>\n",
              "      <td>373 Sandra Brooks Suite 015</td>\n",
              "      <td>Arenzville</td>\n",
              "      <td>IL</td>\n",
              "      <td>62611</td>\n",
              "      <td>...</td>\n",
              "      <td>23:35:50</td>\n",
              "      <td>1625283350</td>\n",
              "      <td>shopping_net</td>\n",
              "      <td>959.42</td>\n",
              "      <td>1</td>\n",
              "      <td>Schmidt and Sons</td>\n",
              "      <td>40.576454</td>\n",
              "      <td>-90.010449</td>\n",
              "      <td>70</td>\n",
              "      <td>2021-07-02 23:35:50</td>\n",
              "    </tr>\n",
              "    <tr>\n",
              "      <th>3</th>\n",
              "      <td>3</td>\n",
              "      <td>167-80-6754</td>\n",
              "      <td>3526342637293304</td>\n",
              "      <td>Jonathan</td>\n",
              "      <td>Thomas</td>\n",
              "      <td>M</td>\n",
              "      <td>373 Sandra Brooks Suite 015</td>\n",
              "      <td>Arenzville</td>\n",
              "      <td>IL</td>\n",
              "      <td>62611</td>\n",
              "      <td>...</td>\n",
              "      <td>23:21:46</td>\n",
              "      <td>1625196106</td>\n",
              "      <td>grocery_pos</td>\n",
              "      <td>982.90</td>\n",
              "      <td>1</td>\n",
              "      <td>Kovacek, Dibbert and Ondricka</td>\n",
              "      <td>40.647832</td>\n",
              "      <td>-91.313098</td>\n",
              "      <td>70</td>\n",
              "      <td>2021-07-01 23:21:46</td>\n",
              "    </tr>\n",
              "    <tr>\n",
              "      <th>4</th>\n",
              "      <td>4</td>\n",
              "      <td>167-80-6754</td>\n",
              "      <td>3526342637293304</td>\n",
              "      <td>Jonathan</td>\n",
              "      <td>Thomas</td>\n",
              "      <td>M</td>\n",
              "      <td>373 Sandra Brooks Suite 015</td>\n",
              "      <td>Arenzville</td>\n",
              "      <td>IL</td>\n",
              "      <td>62611</td>\n",
              "      <td>...</td>\n",
              "      <td>23:22:36</td>\n",
              "      <td>1625282556</td>\n",
              "      <td>shopping_net</td>\n",
              "      <td>1008.03</td>\n",
              "      <td>1</td>\n",
              "      <td>Lemke-Gutmann</td>\n",
              "      <td>40.775791</td>\n",
              "      <td>-89.907877</td>\n",
              "      <td>70</td>\n",
              "      <td>2021-07-02 23:22:36</td>\n",
              "    </tr>\n",
              "  </tbody>\n",
              "</table>\n",
              "<p>5 rows × 29 columns</p>\n",
              "</div>\n",
              "    <div class=\"colab-df-buttons\">\n",
              "\n",
              "  <div class=\"colab-df-container\">\n",
              "    <button class=\"colab-df-convert\" onclick=\"convertToInteractive('df-ae4bd307-d526-45ed-b9c3-cea4194cb587')\"\n",
              "            title=\"Convert this dataframe to an interactive table.\"\n",
              "            style=\"display:none;\">\n",
              "\n",
              "  <svg xmlns=\"http://www.w3.org/2000/svg\" height=\"24px\" viewBox=\"0 -960 960 960\">\n",
              "    <path d=\"M120-120v-720h720v720H120Zm60-500h600v-160H180v160Zm220 220h160v-160H400v160Zm0 220h160v-160H400v160ZM180-400h160v-160H180v160Zm440 0h160v-160H620v160ZM180-180h160v-160H180v160Zm440 0h160v-160H620v160Z\"/>\n",
              "  </svg>\n",
              "    </button>\n",
              "\n",
              "  <style>\n",
              "    .colab-df-container {\n",
              "      display:flex;\n",
              "      gap: 12px;\n",
              "    }\n",
              "\n",
              "    .colab-df-convert {\n",
              "      background-color: #E8F0FE;\n",
              "      border: none;\n",
              "      border-radius: 50%;\n",
              "      cursor: pointer;\n",
              "      display: none;\n",
              "      fill: #1967D2;\n",
              "      height: 32px;\n",
              "      padding: 0 0 0 0;\n",
              "      width: 32px;\n",
              "    }\n",
              "\n",
              "    .colab-df-convert:hover {\n",
              "      background-color: #E2EBFA;\n",
              "      box-shadow: 0px 1px 2px rgba(60, 64, 67, 0.3), 0px 1px 3px 1px rgba(60, 64, 67, 0.15);\n",
              "      fill: #174EA6;\n",
              "    }\n",
              "\n",
              "    .colab-df-buttons div {\n",
              "      margin-bottom: 4px;\n",
              "    }\n",
              "\n",
              "    [theme=dark] .colab-df-convert {\n",
              "      background-color: #3B4455;\n",
              "      fill: #D2E3FC;\n",
              "    }\n",
              "\n",
              "    [theme=dark] .colab-df-convert:hover {\n",
              "      background-color: #434B5C;\n",
              "      box-shadow: 0px 1px 3px 1px rgba(0, 0, 0, 0.15);\n",
              "      filter: drop-shadow(0px 1px 2px rgba(0, 0, 0, 0.3));\n",
              "      fill: #FFFFFF;\n",
              "    }\n",
              "  </style>\n",
              "\n",
              "    <script>\n",
              "      const buttonEl =\n",
              "        document.querySelector('#df-ae4bd307-d526-45ed-b9c3-cea4194cb587 button.colab-df-convert');\n",
              "      buttonEl.style.display =\n",
              "        google.colab.kernel.accessAllowed ? 'block' : 'none';\n",
              "\n",
              "      async function convertToInteractive(key) {\n",
              "        const element = document.querySelector('#df-ae4bd307-d526-45ed-b9c3-cea4194cb587');\n",
              "        const dataTable =\n",
              "          await google.colab.kernel.invokeFunction('convertToInteractive',\n",
              "                                                    [key], {});\n",
              "        if (!dataTable) return;\n",
              "\n",
              "        const docLinkHtml = 'Like what you see? Visit the ' +\n",
              "          '<a target=\"_blank\" href=https://colab.research.google.com/notebooks/data_table.ipynb>data table notebook</a>'\n",
              "          + ' to learn more about interactive tables.';\n",
              "        element.innerHTML = '';\n",
              "        dataTable['output_type'] = 'display_data';\n",
              "        await google.colab.output.renderOutput(dataTable, element);\n",
              "        const docLink = document.createElement('div');\n",
              "        docLink.innerHTML = docLinkHtml;\n",
              "        element.appendChild(docLink);\n",
              "      }\n",
              "    </script>\n",
              "  </div>\n",
              "\n",
              "\n",
              "<div id=\"df-1a2ae44e-30c2-4a5b-bc73-e474ecd3075b\">\n",
              "  <button class=\"colab-df-quickchart\" onclick=\"quickchart('df-1a2ae44e-30c2-4a5b-bc73-e474ecd3075b')\"\n",
              "            title=\"Suggest charts\"\n",
              "            style=\"display:none;\">\n",
              "\n",
              "<svg xmlns=\"http://www.w3.org/2000/svg\" height=\"24px\"viewBox=\"0 0 24 24\"\n",
              "     width=\"24px\">\n",
              "    <g>\n",
              "        <path d=\"M19 3H5c-1.1 0-2 .9-2 2v14c0 1.1.9 2 2 2h14c1.1 0 2-.9 2-2V5c0-1.1-.9-2-2-2zM9 17H7v-7h2v7zm4 0h-2V7h2v10zm4 0h-2v-4h2v4z\"/>\n",
              "    </g>\n",
              "</svg>\n",
              "  </button>\n",
              "\n",
              "<style>\n",
              "  .colab-df-quickchart {\n",
              "      --bg-color: #E8F0FE;\n",
              "      --fill-color: #1967D2;\n",
              "      --hover-bg-color: #E2EBFA;\n",
              "      --hover-fill-color: #174EA6;\n",
              "      --disabled-fill-color: #AAA;\n",
              "      --disabled-bg-color: #DDD;\n",
              "  }\n",
              "\n",
              "  [theme=dark] .colab-df-quickchart {\n",
              "      --bg-color: #3B4455;\n",
              "      --fill-color: #D2E3FC;\n",
              "      --hover-bg-color: #434B5C;\n",
              "      --hover-fill-color: #FFFFFF;\n",
              "      --disabled-bg-color: #3B4455;\n",
              "      --disabled-fill-color: #666;\n",
              "  }\n",
              "\n",
              "  .colab-df-quickchart {\n",
              "    background-color: var(--bg-color);\n",
              "    border: none;\n",
              "    border-radius: 50%;\n",
              "    cursor: pointer;\n",
              "    display: none;\n",
              "    fill: var(--fill-color);\n",
              "    height: 32px;\n",
              "    padding: 0;\n",
              "    width: 32px;\n",
              "  }\n",
              "\n",
              "  .colab-df-quickchart:hover {\n",
              "    background-color: var(--hover-bg-color);\n",
              "    box-shadow: 0 1px 2px rgba(60, 64, 67, 0.3), 0 1px 3px 1px rgba(60, 64, 67, 0.15);\n",
              "    fill: var(--button-hover-fill-color);\n",
              "  }\n",
              "\n",
              "  .colab-df-quickchart-complete:disabled,\n",
              "  .colab-df-quickchart-complete:disabled:hover {\n",
              "    background-color: var(--disabled-bg-color);\n",
              "    fill: var(--disabled-fill-color);\n",
              "    box-shadow: none;\n",
              "  }\n",
              "\n",
              "  .colab-df-spinner {\n",
              "    border: 2px solid var(--fill-color);\n",
              "    border-color: transparent;\n",
              "    border-bottom-color: var(--fill-color);\n",
              "    animation:\n",
              "      spin 1s steps(1) infinite;\n",
              "  }\n",
              "\n",
              "  @keyframes spin {\n",
              "    0% {\n",
              "      border-color: transparent;\n",
              "      border-bottom-color: var(--fill-color);\n",
              "      border-left-color: var(--fill-color);\n",
              "    }\n",
              "    20% {\n",
              "      border-color: transparent;\n",
              "      border-left-color: var(--fill-color);\n",
              "      border-top-color: var(--fill-color);\n",
              "    }\n",
              "    30% {\n",
              "      border-color: transparent;\n",
              "      border-left-color: var(--fill-color);\n",
              "      border-top-color: var(--fill-color);\n",
              "      border-right-color: var(--fill-color);\n",
              "    }\n",
              "    40% {\n",
              "      border-color: transparent;\n",
              "      border-right-color: var(--fill-color);\n",
              "      border-top-color: var(--fill-color);\n",
              "    }\n",
              "    60% {\n",
              "      border-color: transparent;\n",
              "      border-right-color: var(--fill-color);\n",
              "    }\n",
              "    80% {\n",
              "      border-color: transparent;\n",
              "      border-right-color: var(--fill-color);\n",
              "      border-bottom-color: var(--fill-color);\n",
              "    }\n",
              "    90% {\n",
              "      border-color: transparent;\n",
              "      border-bottom-color: var(--fill-color);\n",
              "    }\n",
              "  }\n",
              "</style>\n",
              "\n",
              "  <script>\n",
              "    async function quickchart(key) {\n",
              "      const quickchartButtonEl =\n",
              "        document.querySelector('#' + key + ' button');\n",
              "      quickchartButtonEl.disabled = true;  // To prevent multiple clicks.\n",
              "      quickchartButtonEl.classList.add('colab-df-spinner');\n",
              "      try {\n",
              "        const charts = await google.colab.kernel.invokeFunction(\n",
              "            'suggestCharts', [key], {});\n",
              "      } catch (error) {\n",
              "        console.error('Error during call to suggestCharts:', error);\n",
              "      }\n",
              "      quickchartButtonEl.classList.remove('colab-df-spinner');\n",
              "      quickchartButtonEl.classList.add('colab-df-quickchart-complete');\n",
              "    }\n",
              "    (() => {\n",
              "      let quickchartButtonEl =\n",
              "        document.querySelector('#df-1a2ae44e-30c2-4a5b-bc73-e474ecd3075b button');\n",
              "      quickchartButtonEl.style.display =\n",
              "        google.colab.kernel.accessAllowed ? 'block' : 'none';\n",
              "    })();\n",
              "  </script>\n",
              "</div>\n",
              "\n",
              "    </div>\n",
              "  </div>\n"
            ],
            "text/plain": [
              "   Unnamed: 0          ssn            cc_num     first    last gender  \\\n",
              "0           0  167-80-6754  3526342637293304  Jonathan  Thomas      M   \n",
              "1           1  167-80-6754  3526342637293304  Jonathan  Thomas      M   \n",
              "2           2  167-80-6754  3526342637293304  Jonathan  Thomas      M   \n",
              "3           3  167-80-6754  3526342637293304  Jonathan  Thomas      M   \n",
              "4           4  167-80-6754  3526342637293304  Jonathan  Thomas      M   \n",
              "\n",
              "                        street        city state    zip  ...  trans_time  \\\n",
              "0  373 Sandra Brooks Suite 015  Arenzville    IL  62611  ...    02:47:05   \n",
              "1  373 Sandra Brooks Suite 015  Arenzville    IL  62611  ...    13:53:00   \n",
              "2  373 Sandra Brooks Suite 015  Arenzville    IL  62611  ...    23:35:50   \n",
              "3  373 Sandra Brooks Suite 015  Arenzville    IL  62611  ...    23:21:46   \n",
              "4  373 Sandra Brooks Suite 015  Arenzville    IL  62611  ...    23:22:36   \n",
              "\n",
              "    unix_time      category      amt is_fraud                       merchant  \\\n",
              "0  1625122025   grocery_pos   343.23        1               Rutherford-Mertz   \n",
              "1  1625248380  shopping_net   302.89        1                   Predovic Inc   \n",
              "2  1625283350  shopping_net   959.42        1               Schmidt and Sons   \n",
              "3  1625196106   grocery_pos   982.90        1  Kovacek, Dibbert and Ondricka   \n",
              "4  1625282556  shopping_net  1008.03        1                  Lemke-Gutmann   \n",
              "\n",
              "   merch_lat merch_long age trans_date_trans_time  \n",
              "0  40.268151 -90.175379  70   2021-07-01 02:47:05  \n",
              "1  39.148351 -90.964542  70   2021-07-02 13:53:00  \n",
              "2  40.576454 -90.010449  70   2021-07-02 23:35:50  \n",
              "3  40.647832 -91.313098  70   2021-07-01 23:21:46  \n",
              "4  40.775791 -89.907877  70   2021-07-02 23:22:36  \n",
              "\n",
              "[5 rows x 29 columns]"
            ]
          },
          "execution_count": 7,
          "metadata": {},
          "output_type": "execute_result"
        }
      ],
      "source": [
        "df.head()"
      ]
    },
    {
      "cell_type": "markdown",
      "metadata": {
        "id": "_bU0qyzJHj90"
      },
      "source": [
        "#### Now use the function `datetime.weekday()` to calculate a new variable `dow` (day of the week) for each record, and use that information to construct binary feature `is_weekday`.\n",
        "For more reference, please see: https://docs.python.org/3/library/datetime.html#datetime.date.weekday"
      ]
    },
    {
      "cell_type": "code",
      "execution_count": 8,
      "metadata": {
        "id": "N7chSj0iHj90"
      },
      "outputs": [],
      "source": [
        "df['dow'] = df['trans_date'].dt.weekday\n",
        "\n",
        "df['is_weekday'] = (df['dow'] < 5).astype(int)"
      ]
    },
    {
      "cell_type": "code",
      "execution_count": 9,
      "metadata": {
        "colab": {
          "base_uri": "https://localhost:8080/",
          "height": 620
        },
        "id": "NUqEMFQOzApV",
        "outputId": "031fc1fa-1dd4-44ab-e6c5-acc613e39e9a"
      },
      "outputs": [
        {
          "data": {
            "application/vnd.google.colaboratory.intrinsic+json": {
              "type": "dataframe",
              "variable_name": "df"
            },
            "text/html": [
              "\n",
              "  <div id=\"df-8f2f7779-3f2b-4a55-953e-c8d7e6fb8262\" class=\"colab-df-container\">\n",
              "    <div>\n",
              "<style scoped>\n",
              "    .dataframe tbody tr th:only-of-type {\n",
              "        vertical-align: middle;\n",
              "    }\n",
              "\n",
              "    .dataframe tbody tr th {\n",
              "        vertical-align: top;\n",
              "    }\n",
              "\n",
              "    .dataframe thead th {\n",
              "        text-align: right;\n",
              "    }\n",
              "</style>\n",
              "<table border=\"1\" class=\"dataframe\">\n",
              "  <thead>\n",
              "    <tr style=\"text-align: right;\">\n",
              "      <th></th>\n",
              "      <th>Unnamed: 0</th>\n",
              "      <th>ssn</th>\n",
              "      <th>cc_num</th>\n",
              "      <th>first</th>\n",
              "      <th>last</th>\n",
              "      <th>gender</th>\n",
              "      <th>street</th>\n",
              "      <th>city</th>\n",
              "      <th>state</th>\n",
              "      <th>zip</th>\n",
              "      <th>...</th>\n",
              "      <th>category</th>\n",
              "      <th>amt</th>\n",
              "      <th>is_fraud</th>\n",
              "      <th>merchant</th>\n",
              "      <th>merch_lat</th>\n",
              "      <th>merch_long</th>\n",
              "      <th>age</th>\n",
              "      <th>trans_date_trans_time</th>\n",
              "      <th>dow</th>\n",
              "      <th>is_weekday</th>\n",
              "    </tr>\n",
              "  </thead>\n",
              "  <tbody>\n",
              "    <tr>\n",
              "      <th>0</th>\n",
              "      <td>0</td>\n",
              "      <td>167-80-6754</td>\n",
              "      <td>3526342637293304</td>\n",
              "      <td>Jonathan</td>\n",
              "      <td>Thomas</td>\n",
              "      <td>M</td>\n",
              "      <td>373 Sandra Brooks Suite 015</td>\n",
              "      <td>Arenzville</td>\n",
              "      <td>IL</td>\n",
              "      <td>62611</td>\n",
              "      <td>...</td>\n",
              "      <td>grocery_pos</td>\n",
              "      <td>343.23</td>\n",
              "      <td>1</td>\n",
              "      <td>Rutherford-Mertz</td>\n",
              "      <td>40.268151</td>\n",
              "      <td>-90.175379</td>\n",
              "      <td>70</td>\n",
              "      <td>2021-07-01 02:47:05</td>\n",
              "      <td>3</td>\n",
              "      <td>1</td>\n",
              "    </tr>\n",
              "    <tr>\n",
              "      <th>1</th>\n",
              "      <td>1</td>\n",
              "      <td>167-80-6754</td>\n",
              "      <td>3526342637293304</td>\n",
              "      <td>Jonathan</td>\n",
              "      <td>Thomas</td>\n",
              "      <td>M</td>\n",
              "      <td>373 Sandra Brooks Suite 015</td>\n",
              "      <td>Arenzville</td>\n",
              "      <td>IL</td>\n",
              "      <td>62611</td>\n",
              "      <td>...</td>\n",
              "      <td>shopping_net</td>\n",
              "      <td>302.89</td>\n",
              "      <td>1</td>\n",
              "      <td>Predovic Inc</td>\n",
              "      <td>39.148351</td>\n",
              "      <td>-90.964542</td>\n",
              "      <td>70</td>\n",
              "      <td>2021-07-02 13:53:00</td>\n",
              "      <td>4</td>\n",
              "      <td>1</td>\n",
              "    </tr>\n",
              "    <tr>\n",
              "      <th>2</th>\n",
              "      <td>2</td>\n",
              "      <td>167-80-6754</td>\n",
              "      <td>3526342637293304</td>\n",
              "      <td>Jonathan</td>\n",
              "      <td>Thomas</td>\n",
              "      <td>M</td>\n",
              "      <td>373 Sandra Brooks Suite 015</td>\n",
              "      <td>Arenzville</td>\n",
              "      <td>IL</td>\n",
              "      <td>62611</td>\n",
              "      <td>...</td>\n",
              "      <td>shopping_net</td>\n",
              "      <td>959.42</td>\n",
              "      <td>1</td>\n",
              "      <td>Schmidt and Sons</td>\n",
              "      <td>40.576454</td>\n",
              "      <td>-90.010449</td>\n",
              "      <td>70</td>\n",
              "      <td>2021-07-02 23:35:50</td>\n",
              "      <td>4</td>\n",
              "      <td>1</td>\n",
              "    </tr>\n",
              "    <tr>\n",
              "      <th>3</th>\n",
              "      <td>3</td>\n",
              "      <td>167-80-6754</td>\n",
              "      <td>3526342637293304</td>\n",
              "      <td>Jonathan</td>\n",
              "      <td>Thomas</td>\n",
              "      <td>M</td>\n",
              "      <td>373 Sandra Brooks Suite 015</td>\n",
              "      <td>Arenzville</td>\n",
              "      <td>IL</td>\n",
              "      <td>62611</td>\n",
              "      <td>...</td>\n",
              "      <td>grocery_pos</td>\n",
              "      <td>982.90</td>\n",
              "      <td>1</td>\n",
              "      <td>Kovacek, Dibbert and Ondricka</td>\n",
              "      <td>40.647832</td>\n",
              "      <td>-91.313098</td>\n",
              "      <td>70</td>\n",
              "      <td>2021-07-01 23:21:46</td>\n",
              "      <td>3</td>\n",
              "      <td>1</td>\n",
              "    </tr>\n",
              "    <tr>\n",
              "      <th>4</th>\n",
              "      <td>4</td>\n",
              "      <td>167-80-6754</td>\n",
              "      <td>3526342637293304</td>\n",
              "      <td>Jonathan</td>\n",
              "      <td>Thomas</td>\n",
              "      <td>M</td>\n",
              "      <td>373 Sandra Brooks Suite 015</td>\n",
              "      <td>Arenzville</td>\n",
              "      <td>IL</td>\n",
              "      <td>62611</td>\n",
              "      <td>...</td>\n",
              "      <td>shopping_net</td>\n",
              "      <td>1008.03</td>\n",
              "      <td>1</td>\n",
              "      <td>Lemke-Gutmann</td>\n",
              "      <td>40.775791</td>\n",
              "      <td>-89.907877</td>\n",
              "      <td>70</td>\n",
              "      <td>2021-07-02 23:22:36</td>\n",
              "      <td>4</td>\n",
              "      <td>1</td>\n",
              "    </tr>\n",
              "  </tbody>\n",
              "</table>\n",
              "<p>5 rows × 31 columns</p>\n",
              "</div>\n",
              "    <div class=\"colab-df-buttons\">\n",
              "\n",
              "  <div class=\"colab-df-container\">\n",
              "    <button class=\"colab-df-convert\" onclick=\"convertToInteractive('df-8f2f7779-3f2b-4a55-953e-c8d7e6fb8262')\"\n",
              "            title=\"Convert this dataframe to an interactive table.\"\n",
              "            style=\"display:none;\">\n",
              "\n",
              "  <svg xmlns=\"http://www.w3.org/2000/svg\" height=\"24px\" viewBox=\"0 -960 960 960\">\n",
              "    <path d=\"M120-120v-720h720v720H120Zm60-500h600v-160H180v160Zm220 220h160v-160H400v160Zm0 220h160v-160H400v160ZM180-400h160v-160H180v160Zm440 0h160v-160H620v160ZM180-180h160v-160H180v160Zm440 0h160v-160H620v160Z\"/>\n",
              "  </svg>\n",
              "    </button>\n",
              "\n",
              "  <style>\n",
              "    .colab-df-container {\n",
              "      display:flex;\n",
              "      gap: 12px;\n",
              "    }\n",
              "\n",
              "    .colab-df-convert {\n",
              "      background-color: #E8F0FE;\n",
              "      border: none;\n",
              "      border-radius: 50%;\n",
              "      cursor: pointer;\n",
              "      display: none;\n",
              "      fill: #1967D2;\n",
              "      height: 32px;\n",
              "      padding: 0 0 0 0;\n",
              "      width: 32px;\n",
              "    }\n",
              "\n",
              "    .colab-df-convert:hover {\n",
              "      background-color: #E2EBFA;\n",
              "      box-shadow: 0px 1px 2px rgba(60, 64, 67, 0.3), 0px 1px 3px 1px rgba(60, 64, 67, 0.15);\n",
              "      fill: #174EA6;\n",
              "    }\n",
              "\n",
              "    .colab-df-buttons div {\n",
              "      margin-bottom: 4px;\n",
              "    }\n",
              "\n",
              "    [theme=dark] .colab-df-convert {\n",
              "      background-color: #3B4455;\n",
              "      fill: #D2E3FC;\n",
              "    }\n",
              "\n",
              "    [theme=dark] .colab-df-convert:hover {\n",
              "      background-color: #434B5C;\n",
              "      box-shadow: 0px 1px 3px 1px rgba(0, 0, 0, 0.15);\n",
              "      filter: drop-shadow(0px 1px 2px rgba(0, 0, 0, 0.3));\n",
              "      fill: #FFFFFF;\n",
              "    }\n",
              "  </style>\n",
              "\n",
              "    <script>\n",
              "      const buttonEl =\n",
              "        document.querySelector('#df-8f2f7779-3f2b-4a55-953e-c8d7e6fb8262 button.colab-df-convert');\n",
              "      buttonEl.style.display =\n",
              "        google.colab.kernel.accessAllowed ? 'block' : 'none';\n",
              "\n",
              "      async function convertToInteractive(key) {\n",
              "        const element = document.querySelector('#df-8f2f7779-3f2b-4a55-953e-c8d7e6fb8262');\n",
              "        const dataTable =\n",
              "          await google.colab.kernel.invokeFunction('convertToInteractive',\n",
              "                                                    [key], {});\n",
              "        if (!dataTable) return;\n",
              "\n",
              "        const docLinkHtml = 'Like what you see? Visit the ' +\n",
              "          '<a target=\"_blank\" href=https://colab.research.google.com/notebooks/data_table.ipynb>data table notebook</a>'\n",
              "          + ' to learn more about interactive tables.';\n",
              "        element.innerHTML = '';\n",
              "        dataTable['output_type'] = 'display_data';\n",
              "        await google.colab.output.renderOutput(dataTable, element);\n",
              "        const docLink = document.createElement('div');\n",
              "        docLink.innerHTML = docLinkHtml;\n",
              "        element.appendChild(docLink);\n",
              "      }\n",
              "    </script>\n",
              "  </div>\n",
              "\n",
              "\n",
              "<div id=\"df-1756905c-5843-441f-950e-8fd94fcca340\">\n",
              "  <button class=\"colab-df-quickchart\" onclick=\"quickchart('df-1756905c-5843-441f-950e-8fd94fcca340')\"\n",
              "            title=\"Suggest charts\"\n",
              "            style=\"display:none;\">\n",
              "\n",
              "<svg xmlns=\"http://www.w3.org/2000/svg\" height=\"24px\"viewBox=\"0 0 24 24\"\n",
              "     width=\"24px\">\n",
              "    <g>\n",
              "        <path d=\"M19 3H5c-1.1 0-2 .9-2 2v14c0 1.1.9 2 2 2h14c1.1 0 2-.9 2-2V5c0-1.1-.9-2-2-2zM9 17H7v-7h2v7zm4 0h-2V7h2v10zm4 0h-2v-4h2v4z\"/>\n",
              "    </g>\n",
              "</svg>\n",
              "  </button>\n",
              "\n",
              "<style>\n",
              "  .colab-df-quickchart {\n",
              "      --bg-color: #E8F0FE;\n",
              "      --fill-color: #1967D2;\n",
              "      --hover-bg-color: #E2EBFA;\n",
              "      --hover-fill-color: #174EA6;\n",
              "      --disabled-fill-color: #AAA;\n",
              "      --disabled-bg-color: #DDD;\n",
              "  }\n",
              "\n",
              "  [theme=dark] .colab-df-quickchart {\n",
              "      --bg-color: #3B4455;\n",
              "      --fill-color: #D2E3FC;\n",
              "      --hover-bg-color: #434B5C;\n",
              "      --hover-fill-color: #FFFFFF;\n",
              "      --disabled-bg-color: #3B4455;\n",
              "      --disabled-fill-color: #666;\n",
              "  }\n",
              "\n",
              "  .colab-df-quickchart {\n",
              "    background-color: var(--bg-color);\n",
              "    border: none;\n",
              "    border-radius: 50%;\n",
              "    cursor: pointer;\n",
              "    display: none;\n",
              "    fill: var(--fill-color);\n",
              "    height: 32px;\n",
              "    padding: 0;\n",
              "    width: 32px;\n",
              "  }\n",
              "\n",
              "  .colab-df-quickchart:hover {\n",
              "    background-color: var(--hover-bg-color);\n",
              "    box-shadow: 0 1px 2px rgba(60, 64, 67, 0.3), 0 1px 3px 1px rgba(60, 64, 67, 0.15);\n",
              "    fill: var(--button-hover-fill-color);\n",
              "  }\n",
              "\n",
              "  .colab-df-quickchart-complete:disabled,\n",
              "  .colab-df-quickchart-complete:disabled:hover {\n",
              "    background-color: var(--disabled-bg-color);\n",
              "    fill: var(--disabled-fill-color);\n",
              "    box-shadow: none;\n",
              "  }\n",
              "\n",
              "  .colab-df-spinner {\n",
              "    border: 2px solid var(--fill-color);\n",
              "    border-color: transparent;\n",
              "    border-bottom-color: var(--fill-color);\n",
              "    animation:\n",
              "      spin 1s steps(1) infinite;\n",
              "  }\n",
              "\n",
              "  @keyframes spin {\n",
              "    0% {\n",
              "      border-color: transparent;\n",
              "      border-bottom-color: var(--fill-color);\n",
              "      border-left-color: var(--fill-color);\n",
              "    }\n",
              "    20% {\n",
              "      border-color: transparent;\n",
              "      border-left-color: var(--fill-color);\n",
              "      border-top-color: var(--fill-color);\n",
              "    }\n",
              "    30% {\n",
              "      border-color: transparent;\n",
              "      border-left-color: var(--fill-color);\n",
              "      border-top-color: var(--fill-color);\n",
              "      border-right-color: var(--fill-color);\n",
              "    }\n",
              "    40% {\n",
              "      border-color: transparent;\n",
              "      border-right-color: var(--fill-color);\n",
              "      border-top-color: var(--fill-color);\n",
              "    }\n",
              "    60% {\n",
              "      border-color: transparent;\n",
              "      border-right-color: var(--fill-color);\n",
              "    }\n",
              "    80% {\n",
              "      border-color: transparent;\n",
              "      border-right-color: var(--fill-color);\n",
              "      border-bottom-color: var(--fill-color);\n",
              "    }\n",
              "    90% {\n",
              "      border-color: transparent;\n",
              "      border-bottom-color: var(--fill-color);\n",
              "    }\n",
              "  }\n",
              "</style>\n",
              "\n",
              "  <script>\n",
              "    async function quickchart(key) {\n",
              "      const quickchartButtonEl =\n",
              "        document.querySelector('#' + key + ' button');\n",
              "      quickchartButtonEl.disabled = true;  // To prevent multiple clicks.\n",
              "      quickchartButtonEl.classList.add('colab-df-spinner');\n",
              "      try {\n",
              "        const charts = await google.colab.kernel.invokeFunction(\n",
              "            'suggestCharts', [key], {});\n",
              "      } catch (error) {\n",
              "        console.error('Error during call to suggestCharts:', error);\n",
              "      }\n",
              "      quickchartButtonEl.classList.remove('colab-df-spinner');\n",
              "      quickchartButtonEl.classList.add('colab-df-quickchart-complete');\n",
              "    }\n",
              "    (() => {\n",
              "      let quickchartButtonEl =\n",
              "        document.querySelector('#df-1756905c-5843-441f-950e-8fd94fcca340 button');\n",
              "      quickchartButtonEl.style.display =\n",
              "        google.colab.kernel.accessAllowed ? 'block' : 'none';\n",
              "    })();\n",
              "  </script>\n",
              "</div>\n",
              "\n",
              "    </div>\n",
              "  </div>\n"
            ],
            "text/plain": [
              "   Unnamed: 0          ssn            cc_num     first    last gender  \\\n",
              "0           0  167-80-6754  3526342637293304  Jonathan  Thomas      M   \n",
              "1           1  167-80-6754  3526342637293304  Jonathan  Thomas      M   \n",
              "2           2  167-80-6754  3526342637293304  Jonathan  Thomas      M   \n",
              "3           3  167-80-6754  3526342637293304  Jonathan  Thomas      M   \n",
              "4           4  167-80-6754  3526342637293304  Jonathan  Thomas      M   \n",
              "\n",
              "                        street        city state    zip  ...      category  \\\n",
              "0  373 Sandra Brooks Suite 015  Arenzville    IL  62611  ...   grocery_pos   \n",
              "1  373 Sandra Brooks Suite 015  Arenzville    IL  62611  ...  shopping_net   \n",
              "2  373 Sandra Brooks Suite 015  Arenzville    IL  62611  ...  shopping_net   \n",
              "3  373 Sandra Brooks Suite 015  Arenzville    IL  62611  ...   grocery_pos   \n",
              "4  373 Sandra Brooks Suite 015  Arenzville    IL  62611  ...  shopping_net   \n",
              "\n",
              "       amt  is_fraud                       merchant  merch_lat  merch_long  \\\n",
              "0   343.23         1               Rutherford-Mertz  40.268151  -90.175379   \n",
              "1   302.89         1                   Predovic Inc  39.148351  -90.964542   \n",
              "2   959.42         1               Schmidt and Sons  40.576454  -90.010449   \n",
              "3   982.90         1  Kovacek, Dibbert and Ondricka  40.647832  -91.313098   \n",
              "4  1008.03         1                  Lemke-Gutmann  40.775791  -89.907877   \n",
              "\n",
              "  age trans_date_trans_time dow is_weekday  \n",
              "0  70   2021-07-01 02:47:05   3          1  \n",
              "1  70   2021-07-02 13:53:00   4          1  \n",
              "2  70   2021-07-02 23:35:50   4          1  \n",
              "3  70   2021-07-01 23:21:46   3          1  \n",
              "4  70   2021-07-02 23:22:36   4          1  \n",
              "\n",
              "[5 rows x 31 columns]"
            ]
          },
          "execution_count": 9,
          "metadata": {},
          "output_type": "execute_result"
        }
      ],
      "source": [
        "df.head()"
      ]
    },
    {
      "cell_type": "markdown",
      "metadata": {
        "id": "LHzrxvEEHj90"
      },
      "source": [
        "#### Perform any other preprocessing you think appropriate\n",
        "(Be sure to note whether you are \"peeking\" at the test data (see below)  in those cases, you may need to split the data _before_ doing some preprocessing steps.)"
      ]
    },
    {
      "cell_type": "code",
      "execution_count": 12,
      "metadata": {
        "id": "mYRUONNaHj90"
      },
      "outputs": [],
      "source": [
        "from math import radians, cos, sin, asin, sqrt\n",
        "\n",
        "df['hour'] = df['trans_date_trans_time'].dt.hour\n",
        "\n",
        "def haversine_distance(lat1, long1, lat2, long2):\n",
        "    # Convert decimal degrees to radians\n",
        "    lat1, long1, lat2, long2 = map(radians, [lat1, long1, lat2, long2])\n",
        "\n",
        "    # Haversine formula\n",
        "    dlat = lat2 - lat1\n",
        "    dlong = long2 - long1\n",
        "    a = sin(dlat/2)**2 + cos(lat1) * cos(lat2) * sin(dlong/2)**2\n",
        "    c = 2 * asin(sqrt(a))\n",
        "    r = 6371  # Radius of Earth in kilometers\n",
        "    return c * r\n",
        "\n",
        "df['distance'] = df.apply(lambda row: haversine_distance(\n",
        "    row['lat'], row['long'], row['merch_lat'], row['merch_long']), axis=1)\n",
        "\n",
        "# Map 'gender' to numerical values\n",
        "df['gender'] = df['gender'].map({'F': 0, 'M': 1})\n",
        "\n",
        "\n",
        "# Define features and target variable\n",
        "X = df.drop(['is_fraud'], axis=1)\n",
        "y = df['is_fraud']"
      ]
    },
    {
      "cell_type": "markdown",
      "metadata": {
        "id": "tRh1SYxVHj90"
      },
      "source": [
        "\n",
        "#### Split the data into training and test samples.  \n",
        "The test sample should include records with index 1,500,000 through the end of the data."
      ]
    },
    {
      "cell_type": "code",
      "execution_count": 13,
      "metadata": {
        "id": "U9De6rJcHj91"
      },
      "outputs": [],
      "source": [
        "train_df = df.iloc[:1500000]\n",
        "test_df = df.iloc[1500000:]\n",
        "\n",
        "X_train = train_df.drop('is_fraud', axis=1)\n",
        "y_train = train_df['is_fraud']\n",
        "X_test = test_df.drop('is_fraud', axis=1)\n",
        "y_test = test_df['is_fraud']"
      ]
    },
    {
      "cell_type": "markdown",
      "metadata": {
        "id": "tL6EwoO8Hj91"
      },
      "source": [
        "### The current (incumbent) model\n",
        "MasterVista has a model that was developed by an analyst at the bank.  The model has the following form:\n",
        "\n",
        " $$ \\hat{y} = logit \\left(\\hat{\\alpha} + \\hat{\\beta_1} log(age)+ \\hat{\\beta_2} log(city_{pop})+\\hat{\\beta_3} is\\_{weekday} \\right) $$"
      ]
    },
    {
      "cell_type": "markdown",
      "metadata": {
        "id": "LkJabNebHj91"
      },
      "source": [
        "#### Estimate the MasterVista model on your training data. Use the test data to plot the ROC and calculate the AUC."
      ]
    },
    {
      "cell_type": "code",
      "execution_count": 14,
      "metadata": {
        "colab": {
          "base_uri": "https://localhost:8080/",
          "height": 526
        },
        "id": "IZXEUFePHj91",
        "outputId": "d02ab590-7025-4cb3-b61c-8c573b2f0cbc"
      },
      "outputs": [
        {
          "name": "stdout",
          "output_type": "stream",
          "text": [
            "Optimization terminated successfully.\n",
            "         Current function value: 0.022921\n",
            "         Iterations 10\n"
          ]
        },
        {
          "data": {
            "image/png": "[encoded data removed]",
            "text/plain": [
              "<Figure size 640x480 with 1 Axes>"
            ]
          },
          "metadata": {},
          "output_type": "display_data"
        }
      ],
      "source": [
        "from sklearn.metrics import confusion_matrix, roc_curve, auc\n",
        "import numpy as np\n",
        "import pandas as pd\n",
        "import matplotlib.pyplot as plt\n",
        "import statsmodels.api as sm\n",
        "\n",
        "train_mv_df = X_train[['age', 'city_pop', 'is_weekday']].copy()\n",
        "test_mv_df = X_test[['age', 'city_pop', 'is_weekday']].copy()\n",
        "\n",
        "train_mv_df['age'] = train_mv_df['age'].apply(lambda x: np.log(x) if x > 0 else 0)\n",
        "train_mv_df['city_pop'] = train_mv_df['city_pop'].apply(lambda x: np.log(x) if x > 0 else 0)\n",
        "test_mv_df['age'] = test_mv_df['age'].apply(lambda x: np.log(x) if x > 0 else 0)\n",
        "test_mv_df['city_pop'] = test_mv_df['city_pop'].apply(lambda x: np.log(x) if x > 0 else 0)\n",
        "\n",
        "logit_model = sm.Logit(y_train, sm.add_constant(train_mv_df)).fit()\n",
        "\n",
        "y_pred_prob = logit_model.predict(sm.add_constant(test_mv_df))\n",
        "\n",
        "fpr_values, tpr_values, thresholds = roc_curve(y_test, y_pred_prob)\n",
        "roc_auc = auc(fpr_values, tpr_values)\n",
        "\n",
        "plt.figure()\n",
        "plt.plot(fpr_values, tpr_values, color='darkorange', lw=2, label=f'ROC curve (AUC = {roc_auc:.4f})')\n",
        "plt.plot([0, 1], [0, 1], color='navy', lw=2, linestyle='--')\n",
        "plt.xlim([0.0, 1.0])\n",
        "plt.ylim([0.0, 1.05])\n",
        "plt.xlabel('False Positive Rate')\n",
        "plt.ylabel('True Positive Rate')\n",
        "plt.title('Receiver Operating Characteristic')\n",
        "plt.legend(loc=\"lower right\")\n",
        "plt.show()\n"
      ]
    },
    {
      "cell_type": "markdown",
      "metadata": {
        "id": "WmQ9SOHtHj91"
      },
      "source": [
        "#### Build your own GAM (with logit link function) to predict `is_fraud`.  Can you do better than MasterVista?\n",
        "Only use the training data to build the model.  Use the test data to plot the ROC and calculate the AUC."
      ]
    },
    {
      "cell_type": "code",
      "execution_count": 15,
      "metadata": {
        "colab": {
          "base_uri": "https://localhost:8080/"
        },
        "id": "uqUgO160-3CS",
        "outputId": "16f97811-1d93-4606-f9d9-9514fd6a05f9"
      },
      "outputs": [
        {
          "name": "stdout",
          "output_type": "stream",
          "text": [
            "Collecting pygam\n",
            "  Downloading pygam-0.9.1-py3-none-any.whl.metadata (7.1 kB)\n",
            "Requirement already satisfied: numpy>=1.25 in /usr/local/lib/python3.10/dist-packages (from pygam) (1.26.4)\n",
            "Requirement already satisfied: progressbar2<5.0.0,>=4.2.0 in /usr/local/lib/python3.10/dist-packages (from pygam) (4.5.0)\n",
            "Collecting scipy<1.12,>=1.11.1 (from pygam)\n",
            "  Downloading scipy-1.11.4-cp310-cp310-manylinux_2_17_x86_64.manylinux2014_x86_64.whl.metadata (60 kB)\n",
            "\u001b[2K     \u001b[90m━━━━━━━━━━━━━━━━━━━━━━━━━━━━━━━━━━━━━━━━\u001b[0m \u001b[32m60.4/60.4 kB\u001b[0m \u001b[31m5.5 MB/s\u001b[0m eta \u001b[36m0:00:00\u001b[0m\n",
            "\u001b[?25hRequirement already satisfied: python-utils>=3.8.1 in /usr/local/lib/python3.10/dist-packages (from progressbar2<5.0.0,>=4.2.0->pygam) (3.9.0)\n",
            "Requirement already satisfied: typing-extensions>3.10.0.2 in /usr/local/lib/python3.10/dist-packages (from python-utils>=3.8.1->progressbar2<5.0.0,>=4.2.0->pygam) (4.12.2)\n",
            "Downloading pygam-0.9.1-py3-none-any.whl (522 kB)\n",
            "\u001b[2K   \u001b[90m━━━━━━━━━━━━━━━━━━━━━━━━━━━━━━━━━━━━━━━━\u001b[0m \u001b[32m522.0/522.0 kB\u001b[0m \u001b[31m21.2 MB/s\u001b[0m eta \u001b[36m0:00:00\u001b[0m\n",
            "\u001b[?25hDownloading scipy-1.11.4-cp310-cp310-manylinux_2_17_x86_64.manylinux2014_x86_64.whl (36.4 MB)\n",
            "\u001b[2K   \u001b[90m━━━━━━━━━━━━━━━━━━━━━━━━━━━━━━━━━━━━━━━━\u001b[0m \u001b[32m36.4/36.4 MB\u001b[0m \u001b[31m11.5 MB/s\u001b[0m eta \u001b[36m0:00:00\u001b[0m\n",
            "\u001b[?25hInstalling collected packages: scipy, pygam\n",
            "  Attempting uninstall: scipy\n",
            "    Found existing installation: scipy 1.13.1\n",
            "    Uninstalling scipy-1.13.1:\n",
            "      Successfully uninstalled scipy-1.13.1\n",
            "Successfully installed pygam-0.9.1 scipy-1.11.4\n"
          ]
        }
      ],
      "source": [
        "!pip install pygam"
      ]
    },
    {
      "cell_type": "code",
      "execution_count": 17,
      "metadata": {
        "colab": {
          "base_uri": "https://localhost:8080/",
          "height": 814
        },
        "id": "QVKEm6325tDu",
        "outputId": "c66cdf92-122d-48ce-d7f7-b334a9ee4ffe"
      },
      "outputs": [
        {
          "name": "stderr",
          "output_type": "stream",
          "text": [
            "/usr/local/lib/python3.10/dist-packages/pygam/links.py:149: RuntimeWarning: divide by zero encountered in divide\n",
            "  return dist.levels / (mu * (dist.levels - mu))\n",
            "/usr/local/lib/python3.10/dist-packages/pygam/pygam.py:627: RuntimeWarning: invalid value encountered in multiply\n",
            "  self.link.gradient(mu, self.distribution) ** 2\n",
            "/usr/local/lib/python3.10/dist-packages/pygam/pygam.py:627: RuntimeWarning: overflow encountered in square\n",
            "  self.link.gradient(mu, self.distribution) ** 2\n",
            "/usr/local/lib/python3.10/dist-packages/pygam/links.py:149: RuntimeWarning: overflow encountered in divide\n",
            "  return dist.levels / (mu * (dist.levels - mu))\n",
            "/usr/local/lib/python3.10/dist-packages/pygam/links.py:133: RuntimeWarning: overflow encountered in exp\n",
            "  elp = np.exp(lp)\n",
            "/usr/local/lib/python3.10/dist-packages/pygam/links.py:134: RuntimeWarning: invalid value encountered in divide\n",
            "  return dist.levels * elp / (elp + 1)\n"
          ]
        },
        {
          "name": "stdout",
          "output_type": "stream",
          "text": [
            "did not converge\n",
            "AUC of our GAM model: 0.9535\n"
          ]
        },
        {
          "data": {
            "image/png": "[encoded data removed]",
            "text/plain": [
              "<Figure size 800x600 with 1 Axes>"
            ]
          },
          "metadata": {},
          "output_type": "display_data"
        }
      ],
      "source": [
        "import pandas as pd\n",
        "import numpy as np\n",
        "from pygam import LogisticGAM, s, f\n",
        "from sklearn.preprocessing import LabelEncoder\n",
        "from sklearn.metrics import roc_curve, auc\n",
        "import matplotlib.pyplot as plt\n",
        "\n",
        "\n",
        "sample_fraction = 1\n",
        "X_train_sampled = X_train.sample(frac=sample_fraction, random_state=42)\n",
        "y_train_sampled = y_train.loc[X_train_sampled.index]\n",
        "\n",
        "def prepare_gam_data(X):\n",
        "    X = X.copy()\n",
        "    le_category = LabelEncoder()\n",
        "    le_gender = LabelEncoder()\n",
        "\n",
        "    X['category_enc'] = le_category.fit_transform(X['category'])\n",
        "    X['gender_enc'] = le_gender.fit_transform(X['gender'])\n",
        "\n",
        "    X_gam = X[['amt', 'distance', 'age', 'hour', 'category_enc', 'gender_enc', 'is_weekday']]\n",
        "    X_gam = X_gam.dropna()\n",
        "    return X_gam\n",
        "\n",
        "X_train_gam = prepare_gam_data(X_train_sampled)\n",
        "X_test_gam = prepare_gam_data(X_test)\n",
        "\n",
        "y_train_gam = y_train_sampled.loc[X_train_gam.index]\n",
        "y_test_gam = y_test.loc[X_test_gam.index]\n",
        "\n",
        "gam = LogisticGAM(\n",
        "    s(0, n_splines=10) +  # 'amt'\n",
        "    s(1, n_splines=10) +  # 'distance'\n",
        "    s(2, n_splines=10) +  # 'age'\n",
        "    s(3, n_splines=10) +  # 'hour'\n",
        "    f(4) +                # 'category_enc'\n",
        "    f(5) +                # 'gender_enc'\n",
        "    f(6)                  # 'is_weekday'\n",
        ").fit(X_train_gam.values, y_train_gam.values)\n",
        "\n",
        "y_pred_prob_gam = gam.predict_proba(X_test_gam.values)\n",
        "\n",
        "fpr_gam, tpr_gam, _ = roc_curve(y_test_gam, y_pred_prob_gam)\n",
        "auc_gam = auc(fpr_gam, tpr_gam)\n",
        "\n",
        "print(f\"AUC of our GAM model: {auc_gam:.4f}\")\n",
        "\n",
        "plt.figure(figsize=(8, 6))\n",
        "plt.plot(fpr_gam, tpr_gam, label=f'Our GAM Model (AUC = {auc_gam:.4f})')\n",
        "plt.plot([0, 1], [0, 1], 'k--')\n",
        "plt.xlabel('False Positive Rate')\n",
        "plt.ylabel('True Positive Rate')\n",
        "plt.title(\"ROC Curve for Our GAM Model\")\n",
        "plt.legend(loc='lower right')\n",
        "plt.show()\n"
      ]
    },
    {
      "cell_type": "markdown",
      "metadata": {
        "id": "X2GrgZlbHj91"
      },
      "source": [
        "#### Now build a tree model to predict `is_fraud`.  Can you beat your GAM?\n",
        "Only use the training data to build the model.  Use the test data to plot the ROC and calculate the AUC."
      ]
    },
    {
      "cell_type": "code",
      "execution_count": 18,
      "metadata": {
        "colab": {
          "base_uri": "https://localhost:8080/",
          "height": 743
        },
        "id": "YiDNkePh873j",
        "outputId": "9a7cccd3-60d3-44b3-ce57-469e6eb06b35"
      },
      "outputs": [
        {
          "name": "stdout",
          "output_type": "stream",
          "text": [
            "AUC of the Decision Tree model: 0.9743\n"
          ]
        },
        {
          "data": {
            "image/png": "[encoded data removed]",
            "text/plain": [
              "<Figure size 800x600 with 1 Axes>"
            ]
          },
          "metadata": {},
          "output_type": "display_data"
        },
        {
          "name": "stdout",
          "output_type": "stream",
          "text": [
            "              precision    recall  f1-score   support\n",
            "\n",
            "           0       1.00      0.96      0.98    495700\n",
            "           1       0.10      0.94      0.18      2159\n",
            "\n",
            "    accuracy                           0.96    497859\n",
            "   macro avg       0.55      0.95      0.58    497859\n",
            "weighted avg       1.00      0.96      0.98    497859\n",
            "\n"
          ]
        }
      ],
      "source": [
        "from sklearn.tree import DecisionTreeClassifier\n",
        "from sklearn.metrics import roc_curve, auc, classification_report\n",
        "import matplotlib.pyplot as plt\n",
        "\n",
        "def prepare_tree_data(X):\n",
        "    X = X.copy()\n",
        "    le_category = LabelEncoder()\n",
        "    le_gender = LabelEncoder()\n",
        "\n",
        "    X['category_enc'] = le_category.fit_transform(X['category'])\n",
        "    X['gender_enc'] = le_gender.fit_transform(X['gender'])\n",
        "\n",
        "    X_tree = X[['amt', 'distance', 'age', 'hour', 'category_enc', 'gender_enc', 'is_weekday']]\n",
        "    X_tree = X_tree.dropna()  # Drop rows with NaN values\n",
        "    return X_tree\n",
        "\n",
        "X_train_tree = prepare_tree_data(X_train)\n",
        "X_test_tree = prepare_tree_data(X_test)\n",
        "\n",
        "y_train_tree = y_train.loc[X_train_tree.index]\n",
        "y_test_tree = y_test.loc[X_test_tree.index]\n",
        "\n",
        "dt_model = DecisionTreeClassifier(random_state=42, class_weight='balanced', max_depth=10)\n",
        "dt_model.fit(X_train_tree, y_train_tree)\n",
        "\n",
        "y_pred_prob_dt = dt_model.predict_proba(X_test_tree)[:, 1]  # Probability for the \"is_fraud\" class (1)\n",
        "\n",
        "fpr_dt, tpr_dt, _ = roc_curve(y_test_tree, y_pred_prob_dt)\n",
        "auc_dt = auc(fpr_dt, tpr_dt)\n",
        "\n",
        "print(f\"AUC of the Decision Tree model: {auc_dt:.4f}\")\n",
        "\n",
        "plt.figure(figsize=(8, 6))\n",
        "plt.plot(fpr_dt, tpr_dt, label=f'Decision Tree Model (AUC = {auc_dt:.4f})')\n",
        "plt.plot([0, 1], [0, 1], 'k--')\n",
        "plt.xlabel('False Positive Rate')\n",
        "plt.ylabel('True Positive Rate')\n",
        "plt.title(\"ROC Curve for Decision Tree Model\")\n",
        "plt.legend(loc='lower right')\n",
        "plt.show()\n",
        "\n",
        "print(classification_report(y_test_tree, dt_model.predict(X_test_tree)))\n"
      ]
    },
    {
      "cell_type": "markdown",
      "metadata": {
        "id": "IEK4_FbnHj91"
      },
      "source": [
        "#  <span style=\"font-family: Palatino; font-size: 30px; color:purple\">Finding  good cutoffs</span>"
      ]
    },
    {
      "cell_type": "markdown",
      "metadata": {
        "id": "1InXBWJ1Hj91"
      },
      "source": [
        "### MasterVista's fraud costs"
      ]
    },
    {
      "cell_type": "markdown",
      "metadata": {
        "id": "36NurnwRHj91"
      },
      "source": [
        "MasterVista makes money in its credit card business through two primary sources:\n",
        "- Merchant fees that are paid by the vendor to MasterVista to use the banking system\n",
        "- Late fees that are paid by customers on outstanding balances\n",
        "\n",
        "If there is a suspected fraudulent transaction, MasterVista incurs costs in one of two ways:\n",
        "- In the event that there is a fraudulent transaction that is not prevented, MasterVista must reimburse the seller for the cost of the (fraudulently) purchased item\n",
        "- In the event that a suspicious transaction is investigated, there is a cost associated with the investigation.\n",
        "\n",
        "If a transaction is flagged it is verified manually.  If a flagged transaction is not authorized by the cardholder, it does not go through.  Otherwise, if it is flagged, but found to be valid, it is processed after the verification.\n",
        "\n",
        "The table below outlines these costs, in percentage terms, for an average transaction. (In this section, we will make the simplifying assumption that the mean values purchases, etc. are sufficient for our analysis.  In practice, we would likely do this dynamically.)"
      ]
    },
    {
      "cell_type": "markdown",
      "metadata": {
        "id": "MO9ShTJNHj97"
      },
      "source": [
        "| Variable                                | Value | Description                                              |\n",
        "|----------------------------------------|-------|----------------------------------------------------------|\n",
        "| Mean late fee profit pct (per trans)  | 2.3%  | Average percentage financed over more than one billing cycle (for approved purchases) |\n",
        "| Mean loss pct on fraud                 | 150%  | Mean loss of purchase amount lost if fraudulent transaction goes through |\n",
        "| Mean merchant fee profit pct           | 2%    | Mean fee paid by merchant for approved transactions, as a percentage of the transaction amount |\n",
        "| Mean cost of verification              | 6%    | Mean cost of investigating a potentially fraudulent transaction before approving |"
      ]
    },
    {
      "cell_type": "markdown",
      "metadata": {
        "id": "LUCBi5PIHj97"
      },
      "source": [
        "### Write down the cost-benefit matrix for MasterVista's operations"
      ]
    },
    {
      "cell_type": "markdown",
      "metadata": {
        "id": "oseBWj0uHj97"
      },
      "source": [
        "\n",
        "### Cost-Benefit Matrix\n",
        "\n",
        "| **Class**           | **Net Impact (%)**         | **Reasoning**                                                                                                                                           |\n",
        "|----------------------|----------------------------|---------------------------------------------------------------------------------------------------------------------------------------------------------|\n",
        "| **True Positive (TP)**  | **+144%**                  | **Costs**: Verification cost = -6%.<br>**Benefits**: Fraud loss avoided = +150%.<br>Verification cost is added, but fraud loss is avoided.               |\n",
        "| **False Positive (FP)** | **-1.7%**                  | **Costs**: Verification cost = -6%.<br>**Benefits**: Merchant fee = +2%.<br> Late fee = +2.3%.<br>The transaction is flagged but later approved after investigation.|\n",
        "| **True Negative (TN)**  | **+4.3%**                  | **Costs**: None.<br>**Benefits**: Merchant fee = +2% + Late fee = +2.3%.<br>No verification cost, as the transaction is valid and processed directly.    |\n",
        "| **False Negative (FN)** | **-145.7%**                | **Costs**: Fraud loss = -150%.<br>**Benefits**: Merchant fee = +2%.<br> Late fee = +2.3%.<br>Fraudulent transaction proceeds, resulting in a substantial loss. |\n"
      ]
    },
    {
      "cell_type": "markdown",
      "metadata": {
        "id": "yPPmSXN4Hj97"
      },
      "source": [
        "### Find the 'optimal' cutoff for\n",
        "    1) MasterVista's model,\n",
        "    2) your GAM, and\n",
        "    3) your tree model;\n",
        "### and plot the cost curves"
      ]
    },
    {
      "cell_type": "code",
      "execution_count": 19,
      "metadata": {
        "colab": {
          "base_uri": "https://localhost:8080/"
        },
        "id": "_7T26KOKx0V4",
        "outputId": "1f7b234c-28e1-49fe-c44e-fbc9e6ae5934"
      },
      "outputs": [
        {
          "name": "stdout",
          "output_type": "stream",
          "text": [
            "Optimal Cutoff: 0.01\n",
            "Maximum NPV: 0.042600463602803604\n"
          ]
        }
      ],
      "source": [
        "late_fee_profit_pct = 0.023\n",
        "merchant_fee_profit_pct = 0.02\n",
        "fraud_loss_pct = 1.5\n",
        "verification_cost_pct = 0.06\n",
        "\n",
        "total_transactions = len(y_test)\n",
        "fraud_transactions = y_test.sum()\n",
        "p_D = fraud_transactions / total_transactions\n",
        "p_ND = 1 - p_D\n",
        "\n",
        "b_TN = (late_fee_profit_pct + merchant_fee_profit_pct)\n",
        "b_TP = (fraud_loss_pct - verification_cost_pct)\n",
        "c_FP = - (verification_cost_pct - merchant_fee_profit_pct - late_fee_profit_pct)\n",
        "c_FN = - (fraud_loss_pct - merchant_fee_profit_pct - late_fee_profit_pct)\n",
        "\n",
        "cutoffs = np.arange(0.0, 1.0, 0.01)\n",
        "optimal_cutoff = 0\n",
        "max_npv = -np.inf\n",
        "npv_values = []\n",
        "fp_costs = []\n",
        "fn_costs = []\n",
        "tp_profits = []\n",
        "tn_profits = []\n",
        "\n",
        "\n",
        "# NPV for each cutoff\n",
        "for cutoff in cutoffs:\n",
        "    y_pred = (y_pred_prob >= cutoff).astype(int)\n",
        "    tn, fp, fn, tp = confusion_matrix(y_test, y_pred).ravel()\n",
        "\n",
        "    tn_profit = p_ND * b_TN * (tn/(tp+tn+fp+fn))\n",
        "    fp_cost = p_ND * c_FP * (fp/(tp+tn+fp+fn))\n",
        "    tp_profit = p_D * b_TP * (tp/(tp+tn+fp+fn))\n",
        "    fn_cost = p_D * c_FN * (fn/(tp+tn+fp+fn))\n",
        "    npv = tn_profit + fp_cost + tp_profit + fn_cost\n",
        "\n",
        "    npv_values.append(npv)\n",
        "    fp_costs.append(fp_cost)\n",
        "    fn_costs.append(fn_cost)\n",
        "    tp_profits.append(tp_profit)\n",
        "    tn_profits.append(tn_profit)\n",
        "\n",
        "    if npv > max_npv:\n",
        "        max_npv = npv\n",
        "        optimal_cutoff = cutoff\n",
        "\n",
        "print(\"Optimal Cutoff:\", optimal_cutoff)\n",
        "print(\"Maximum NPV:\", max_npv)"
      ]
    },
    {
      "cell_type": "code",
      "execution_count": 20,
      "metadata": {
        "colab": {
          "base_uri": "https://localhost:8080/",
          "height": 564
        },
        "id": "1fu-vTO61OtJ",
        "outputId": "9ccc4471-8b81-46d5-bbf2-a3ac963b9b0d"
      },
      "outputs": [
        {
          "data": {
            "image/png": "[encoded data removed]",
            "text/plain": [
              "<Figure size 1000x600 with 1 Axes>"
            ]
          },
          "metadata": {},
          "output_type": "display_data"
        }
      ],
      "source": [
        "plt.figure(figsize=(10, 6))\n",
        "plt.plot(cutoffs, npv_values, label='Net Present Value (NPV)', color='blue', linewidth=2)\n",
        "plt.plot(cutoffs, fp_costs, label='FP Cost', color='red', linestyle='--')\n",
        "plt.plot(cutoffs, fn_costs, label='FN Cost', color='purple', linestyle='--')\n",
        "plt.plot(cutoffs, tp_profits, label='TP Profit', color='green', linestyle='-.')\n",
        "plt.plot(cutoffs, tn_profits, label='TN Profit', color='orange', linestyle='-.')\n",
        "\n",
        "plt.xlabel(\"Cutoff Threshold\")\n",
        "plt.ylabel(\"Amount ($)\")\n",
        "plt.title(\"Cost Curves for Different Cutoff Thresholds\")\n",
        "plt.legend()\n",
        "plt.grid(True)\n",
        "plt.show()"
      ]
    },
    {
      "cell_type": "code",
      "execution_count": 35,
      "metadata": {
        "colab": {
          "base_uri": "https://localhost:8080/"
        },
        "id": "mp-YcPxhAZZO",
        "outputId": "6dd7111e-fbbe-47cc-c6c6-6fad0b333877"
      },
      "outputs": [
        {
          "name": "stdout",
          "output_type": "stream",
          "text": [
            "True Positive Rate (TPR): 0.0000\n",
            "False Positive Rate (FPR): 0.0000\n"
          ]
        }
      ],
      "source": [
        "optimal_cutoff = 0.01\n",
        "y_pred_binary = (y_pred_prob >= optimal_cutoff).astype(int)\n",
        "\n",
        "tn, fp, fn, tp = confusion_matrix(y_test, y_pred_binary).ravel()\n",
        "\n",
        "tpr = tp / (tp + fn)\n",
        "fpr = fp / (fp + tn)\n",
        "\n",
        "print(f\"True Positive Rate (TPR): {tpr:.4f}\")\n",
        "print(f\"False Positive Rate (FPR): {fpr:.4f}\")"
      ]
    },
    {
      "cell_type": "code",
      "execution_count": 22,
      "metadata": {
        "colab": {
          "base_uri": "https://localhost:8080/",
          "height": 600
        },
        "id": "HTp47CEg1fTk",
        "outputId": "0750ee10-54b0-4c56-ca6e-8f82d9502b02"
      },
      "outputs": [
        {
          "name": "stdout",
          "output_type": "stream",
          "text": [
            "Optimal Cutoff: 0.99\n",
            "Maximum NPV: 0.042600463602803604\n"
          ]
        },
        {
          "data": {
            "image/png": "[encoded data removed]",
            "text/plain": [
              "<Figure size 1000x600 with 1 Axes>"
            ]
          },
          "metadata": {},
          "output_type": "display_data"
        }
      ],
      "source": [
        "late_fee_profit_pct = 0.023\n",
        "merchant_fee_profit_pct = 0.02\n",
        "fraud_loss_pct = 1.5\n",
        "verification_cost_pct = 0.06\n",
        "\n",
        "total_transactions = len(y_test_gam)\n",
        "fraud_transactions = y_test_gam.sum()\n",
        "p_D = fraud_transactions / total_transactions\n",
        "p_ND = 1 - p_D\n",
        "\n",
        "b_TN = (late_fee_profit_pct + merchant_fee_profit_pct)\n",
        "b_TP = (fraud_loss_pct - verification_cost_pct)\n",
        "c_FP = - (verification_cost_pct - merchant_fee_profit_pct - late_fee_profit_pct)\n",
        "c_FN = - (fraud_loss_pct - merchant_fee_profit_pct - late_fee_profit_pct)\n",
        "\n",
        "\n",
        "cutoffs = np.arange(0.0, 1.0, 0.01)\n",
        "optimal_cutoff_gam = 0\n",
        "max_npv_gam = -np.inf\n",
        "npv_values_gam = []\n",
        "fp_costs_gam = []\n",
        "fn_costs_gam = []\n",
        "tp_profits_gam = []\n",
        "tn_profits_gam = []\n",
        "\n",
        "\n",
        "# Calculate NPV for each cutoff\n",
        "for cutoff in cutoffs:\n",
        "    y_pred_gam = (y_pred_prob_gam >= cutoff).astype(int)\n",
        "    tn, fp, fn, tp = confusion_matrix(y_test_gam, y_pred_gam).ravel()\n",
        "\n",
        "    tn_profit = p_ND * b_TN * (tn/(tp+tn+fp+fn))\n",
        "    fp_cost = p_ND * c_FP * (fp/(tp+tn+fp+fn))\n",
        "    tp_profit = p_D * b_TP * (tp/(tp+tn+fp+fn))\n",
        "    fn_cost = p_D * c_FN * (fn/(tp+tn+fp+fn))\n",
        "    npv = tn_profit + fp_cost + tp_profit + fn_cost\n",
        "\n",
        "    npv_values_gam.append(npv)\n",
        "    fp_costs_gam.append(fp_cost)\n",
        "    fn_costs_gam.append(fn_cost)\n",
        "    tp_profits_gam.append(tp_profit)\n",
        "    tn_profits_gam.append(tn_profit)\n",
        "\n",
        "    if npv > max_npv_gam:\n",
        "        max_npv_gam = npv\n",
        "        optimal_cutoff_gam = cutoff\n",
        "\n",
        "print(\"Optimal Cutoff:\", optimal_cutoff_gam)\n",
        "print(\"Maximum NPV:\", max_npv_gam)\n",
        "\n",
        "plt.figure(figsize=(10, 6))\n",
        "plt.plot(cutoffs, npv_values_gam, label='Net Present Value (NPV)', color='blue', linewidth=2)\n",
        "plt.plot(cutoffs, fp_costs_gam, label='FP Cost', color='red', linestyle='--')\n",
        "plt.plot(cutoffs, fn_costs_gam, label='FN Cost', color='purple', linestyle='--')\n",
        "plt.plot(cutoffs, tp_profits_gam, label='TP Profit', color='green', linestyle='-.')\n",
        "plt.plot(cutoffs, tn_profits_gam, label='TN Profit', color='orange', linestyle='-.')\n",
        "\n",
        "plt.xlabel(\"Cutoff Threshold\")\n",
        "plt.ylabel(\"Amount ($)\")\n",
        "plt.title(\"Cost Curves for Different Cutoff Thresholds\")\n",
        "plt.legend()\n",
        "plt.grid(True)\n",
        "plt.show()"
      ]
    },
    {
      "cell_type": "code",
      "execution_count": 23,
      "metadata": {
        "colab": {
          "base_uri": "https://localhost:8080/"
        },
        "id": "0z2Q__BZfZkN",
        "outputId": "a0ee122d-921c-45bc-f4df-2fbe7362a999"
      },
      "outputs": [
        {
          "name": "stdout",
          "output_type": "stream",
          "text": [
            "True Positive Rate (TPR) for GAM: 0.0000\n",
            "False Positive Rate (FPR) for GAM: 0.0000\n"
          ]
        }
      ],
      "source": [
        "optimal_cutoff = 0.99\n",
        "y_pred_binary_gam = (y_pred_prob_gam >= optimal_cutoff).astype(int)\n",
        "\n",
        "tn, fp, fn, tp = confusion_matrix(y_test_gam, y_pred_binary_gam).ravel()\n",
        "\n",
        "tpr_gam = tp / (tp + fn) if (tp + fn) > 0 else 0  # True Positive Rate\n",
        "fpr_gam = fp / (fp + tn) if (fp + tn) > 0 else 0  # False Positive Rate\n",
        "\n",
        "print(f\"True Positive Rate (TPR) for GAM: {tpr_gam:.4f}\")\n",
        "print(f\"False Positive Rate (FPR) for GAM: {fpr_gam:.4f}\")\n"
      ]
    },
    {
      "cell_type": "code",
      "execution_count": 24,
      "metadata": {
        "colab": {
          "base_uri": "https://localhost:8080/",
          "height": 600
        },
        "id": "MEHm9cM13Hyg",
        "outputId": "0b250bff-c3ff-4f8e-97e8-d2710468373e"
      },
      "outputs": [
        {
          "name": "stdout",
          "output_type": "stream",
          "text": [
            "Optimal Cutoff: 0.99\n",
            "Maximum NPV: 0.04254999964474994\n"
          ]
        },
        {
          "data": {
            "image/png": "[encoded data removed]",
            "text/plain": [
              "<Figure size 1000x600 with 1 Axes>"
            ]
          },
          "metadata": {},
          "output_type": "display_data"
        }
      ],
      "source": [
        "import numpy as np\n",
        "from sklearn.metrics import confusion_matrix\n",
        "\n",
        "late_fee_profit_pct = 0.023\n",
        "merchant_fee_profit_pct = 0.02\n",
        "fraud_loss_pct = 1.5\n",
        "verification_cost_pct = 0.06\n",
        "\n",
        "total_transactions = len(y_test_tree)\n",
        "fraud_transactions = y_test_tree.sum()\n",
        "p_D = fraud_transactions / total_transactions\n",
        "p_ND = 1 - p_D\n",
        "\n",
        "b_TN = (late_fee_profit_pct + merchant_fee_profit_pct)\n",
        "b_TP = (fraud_loss_pct - verification_cost_pct)\n",
        "c_FP = - (verification_cost_pct - merchant_fee_profit_pct - late_fee_profit_pct)\n",
        "c_FN = - (fraud_loss_pct - merchant_fee_profit_pct - late_fee_profit_pct)\n",
        "\n",
        "cutoffs = np.arange(0.0, 1.0, 0.01)\n",
        "optimal_cutoff_rf = 0\n",
        "max_npv_rf = -np.inf\n",
        "npv_values_rf = []\n",
        "fp_costs_rf = []\n",
        "fn_costs_rf = []\n",
        "tp_profits_rf = []\n",
        "tn_profits_rf = []\n",
        "\n",
        "\n",
        "# NPV for each cutoff\n",
        "for cutoff in cutoffs:\n",
        "    y_pred_rf = (y_pred_prob_dt >= cutoff).astype(int)\n",
        "    tn, fp, fn, tp = confusion_matrix(y_test_tree, y_pred_rf).ravel()\n",
        "\n",
        "    tn_profit = p_ND * b_TN * (tn/(tp+tn+fp+fn))\n",
        "    fp_cost = p_ND * c_FP * (fp/(tp+tn+fp+fn))\n",
        "    tp_profit = p_D * b_TP * (tp/(tp+tn+fp+fn))\n",
        "    fn_cost = p_D * c_FN * (fn/(tp+tn+fp+fn))\n",
        "    npv = tn_profit + fp_cost + tp_profit + fn_cost\n",
        "\n",
        "    npv_values_rf.append(npv)\n",
        "    fp_costs_rf.append(fp_cost)\n",
        "    fn_costs_rf.append(fn_cost)\n",
        "    tp_profits_rf.append(tp_profit)\n",
        "    tn_profits_rf.append(tn_profit)\n",
        "\n",
        "    if npv > max_npv_rf:\n",
        "        max_npv_rf = npv\n",
        "        optimal_cutoff_rf = cutoff\n",
        "\n",
        "print(\"Optimal Cutoff:\", optimal_cutoff_rf)\n",
        "print(\"Maximum NPV:\", max_npv_rf)\n",
        "\n",
        "plt.figure(figsize=(10, 6))\n",
        "plt.plot(cutoffs, npv_values_rf, label='Net Present Value (NPV)', color='blue', linewidth=2)\n",
        "plt.plot(cutoffs, fp_costs_rf, label='FP Cost', color='red', linestyle='--')\n",
        "plt.plot(cutoffs, fn_costs_rf, label='FN Cost', color='purple', linestyle='--')\n",
        "plt.plot(cutoffs, tp_profits_rf, label='TP Profit', color='green', linestyle='-.')\n",
        "plt.plot(cutoffs, tn_profits_rf, label='TN Profit', color='orange', linestyle='-.')\n",
        "\n",
        "plt.xlabel(\"Cutoff Threshold\")\n",
        "plt.ylabel(\"Amount ($)\")\n",
        "plt.title(\"Cost Curves for Different Cutoff Thresholds\")\n",
        "plt.legend()\n",
        "plt.grid(True)\n",
        "plt.show()"
      ]
    },
    {
      "cell_type": "code",
      "execution_count": 25,
      "metadata": {
        "colab": {
          "base_uri": "https://localhost:8080/"
        },
        "id": "tjC23Y8EfwY4",
        "outputId": "06488978-fb5f-453b-f5ea-99025bc6fcaf"
      },
      "outputs": [
        {
          "name": "stdout",
          "output_type": "stream",
          "text": [
            "True Positive Rate (TPR) for Random Forest: 0.6948\n",
            "False Positive Rate (FPR) for Random Forest: 0.0015\n"
          ]
        }
      ],
      "source": [
        "optimal_cutoff = 0.99\n",
        "y_pred_binary_rf = (y_pred_prob_dt >= optimal_cutoff).astype(int)\n",
        "\n",
        "tn, fp, fn, tp = confusion_matrix(y_test_tree, y_pred_binary_rf).ravel()\n",
        "\n",
        "tpr_rf = tp / (tp + fn) if (tp + fn) > 0 else 0\n",
        "fpr_rf = fp / (fp + tn) if (fp + tn) > 0 else 0\n",
        "\n",
        "print(f\"True Positive Rate (TPR) for Random Forest: {tpr_rf:.4f}\")\n",
        "print(f\"False Positive Rate (FPR) for Random Forest: {fpr_rf:.4f}\")\n"
      ]
    },
    {
      "cell_type": "markdown",
      "metadata": {
        "id": "zDglar0bHj97"
      },
      "source": [
        "# <span style=\"font-family: Palatino; font-size: 30px; color:purple\">Estimating economic value of models </span>"
      ]
    },
    {
      "cell_type": "markdown",
      "metadata": {
        "id": "PRswWDNlHj97"
      },
      "source": [
        "### Estimate `cost of fraud` with\n",
        "    1) no model\n",
        "    2) MasterVista's original model\n",
        "    3) your GAM\n",
        "    4) your tree model\n",
        "### at optimal cutoff (per dollar loaned)"
      ]
    },
    {
      "cell_type": "code",
      "execution_count": 37,
      "metadata": {
        "colab": {
          "base_uri": "https://localhost:8080/"
        },
        "id": "MBpUnsCWHj97",
        "outputId": "01d643ef-cae9-4159-fbe4-23507e532c7e"
      },
      "outputs": [
        {
          "name": "stdout",
          "output_type": "stream",
          "text": [
            "Total Fraud Cost (No Model): $ 0.006504853783902672\n",
            "Total Fraud Cost per Dollar (MasterVista's Model): $ 0.006504853783902672\n"
          ]
        }
      ],
      "source": [
        "fraud_loss_pct = 1.5\n",
        "verification_cost_pct = 0.06\n",
        "\n",
        "total_transactions = len(y_test)\n",
        "fraud_transactions = y_test.sum()\n",
        "\n",
        "cost_no_model = fraud_transactions * fraud_loss_pct / len(y_test_gam)\n",
        "print(\"Total Fraud Cost (No Model): $\", cost_no_model)\n",
        "\n",
        "tn, fp, fn, tp = confusion_matrix(y_test, y_pred_binary).ravel()\n",
        "total = tp+fp +fn+tn\n",
        "\n",
        "cost_fn = fn * fraud_loss_pct / total\n",
        "\n",
        "cost_fp = fp  * verification_cost_pct / total\n",
        "\n",
        "cost_mastervista = cost_fn + cost_fp\n",
        "print(\"Total Fraud Cost per Dollar (MasterVista's Model): $\", cost_mastervista)\n"
      ]
    },
    {
      "cell_type": "code",
      "execution_count": 38,
      "metadata": {
        "colab": {
          "base_uri": "https://localhost:8080/"
        },
        "id": "h4bajf_28tHM",
        "outputId": "860c5efe-233f-4715-9a0c-587794a8f366"
      },
      "outputs": [
        {
          "name": "stdout",
          "output_type": "stream",
          "text": [
            "Total Fraud Cost per Dollar (No Model): $ 0.006504853783902672\n",
            "Total Fraud Cost per Dollar for GAM: $ 0.006504853783902672\n"
          ]
        }
      ],
      "source": [
        "total_transactions = len(y_test_gam)\n",
        "fraud_transactions = y_test_gam.sum()\n",
        "\n",
        "cost_no_model = fraud_transactions * fraud_loss_pct / len(y_test_gam)\n",
        "print(\"Total Fraud Cost per Dollar (No Model): $\", cost_no_model)\n",
        "\n",
        "tn, fp, fn, tp = confusion_matrix(y_test_gam, y_pred_binary_gam).ravel()\n",
        "total = tp+fp +fn+tn\n",
        "\n",
        "cost_fn = fn * fraud_loss_pct / total\n",
        "\n",
        "cost_fp = fp * verification_cost_pct / total\n",
        "\n",
        "cost_gam = cost_fn + cost_fp\n",
        "print(\"Total Fraud Cost per Dollar for GAM: $\", cost_gam)"
      ]
    },
    {
      "cell_type": "code",
      "execution_count": 39,
      "metadata": {
        "colab": {
          "base_uri": "https://localhost:8080/"
        },
        "id": "aNXdBTEU8__N",
        "outputId": "465695d8-64fb-47b4-96e8-0d341c84ef20"
      },
      "outputs": [
        {
          "name": "stdout",
          "output_type": "stream",
          "text": [
            "Total Fraud Cost per Dollar (No Model): $ 0.006504853783902672\n",
            "Total Fraud Cost per Dollar (Tree): $ 0.0020742017318156345\n"
          ]
        }
      ],
      "source": [
        "total_transactions = len(y_test_tree)\n",
        "fraud_transactions = y_test_tree.sum()\n",
        "\n",
        "cost_no_model = fraud_transactions * fraud_loss_pct / len(y_test_gam)\n",
        "print(\"Total Fraud Cost per Dollar (No Model): $\", cost_no_model)\n",
        "\n",
        "tn, fp, fn, tp = confusion_matrix(y_test_tree, y_pred_binary_rf).ravel()\n",
        "total = tp+fp +fn+tn\n",
        "\n",
        "cost_fn = fn * fraud_loss_pct / total\n",
        "\n",
        "cost_fp = fp * verification_cost_pct / total\n",
        "\n",
        "cost_rf = cost_fn + cost_fp\n",
        "print(\"Total Fraud Cost per Dollar (Tree): $\", cost_rf)\n"
      ]
    },
    {
      "cell_type": "markdown",
      "metadata": {
        "id": "0HhCVqI1Hj97"
      },
      "source": [
        "### Summarize costs of each approach:\n",
        "#### Create a table that shows (a) the AUC of each model; (b) the optimal cutoff value for each model; and (c) the expected cost per transaction if each model is used at its optimal cutoff."
      ]
    },
    {
      "cell_type": "markdown",
      "metadata": {
        "id": "07tDhQj7Hj97"
      },
      "source": [
        "| Model       |    AUC   |Optimal cutoff (k)|Cost per $1 loaned|\n",
        "|------------:|---------:|-----------------:|-----------------:|\n",
        "| MV original |0.59          |0.01                  |0.006                  |\n",
        "| my GLM      |0.9535          |0.99                 |0.006                 |\n",
        "| my tree     |0.9743          |0.99                  |0.002\n",
        "                |"
      ]
    },
    {
      "cell_type": "markdown",
      "metadata": {
        "id": "JhmBVflAHj97"
      },
      "source": [
        "#### Which model would you recommend that the bank use to minimize its lending costs?"
      ]
    },
    {
      "cell_type": "markdown",
      "metadata": {
        "id": "_bRAoNRlYus9"
      },
      "source": [
        "# I would recommend the Tree model as its AUC is also high and also the costs per dollar loaned is very less as compared to others"
      ]
    },
    {
      "cell_type": "markdown",
      "metadata": {
        "id": "2n-LBeroHj97"
      },
      "source": [
        "### If the bank processes 300,000 transactions per day, with an average value of 25 dollars each, how much money would using the new model save the bank versus the current MasterVista model in the first 30 days of deploying the model?"
      ]
    },
    {
      "cell_type": "code",
      "execution_count": 40,
      "metadata": {
        "colab": {
          "base_uri": "https://localhost:8080/"
        },
        "id": "dj3ioFwnHj97",
        "outputId": "420285f3-da2b-4e14-82e5-a15726e89277"
      },
      "outputs": [
        {
          "name": "stdout",
          "output_type": "stream",
          "text": [
            "Saving from MasterVista Model: $ 1350000.0\n",
            "Saving from my Tree Model: $ 450000.0\n"
          ]
        }
      ],
      "source": [
        "saving_from_mastervista_model = 300000 * 25 * 30 * 0.006\n",
        "saving_from_my_treemodel = 300000 * 25 * 30 * 0.002\n",
        "print(\"Saving from MasterVista Model: $\", saving_from_mastervista_model)\n",
        "print(\"Saving from my Tree Model: $\", saving_from_my_treemodel)"
      ]
    },
    {
      "cell_type": "markdown",
      "metadata": {
        "id": "4hkKEamwHj97"
      },
      "source": [
        "# <span style=\"font-family: Palatino; font-size: 30px; color:purple\">Ooops! </span>\n",
        "\n",
        "### Imagine that you now learn that the true rate of fraudulent transactions is 2%.  Recalculate the optimal cutoff for the MasterVista model."
      ]
    },
    {
      "cell_type": "code",
      "execution_count": 43,
      "metadata": {
        "id": "EegrTafaHj98"
      },
      "outputs": [],
      "source": [
        "true_base_rate = 0.02\n",
        "calibrated_probabilities = true_base_rate * (\n",
        "    (y_pred_prob - y_pred_prob * p_D) /\n",
        "    (p_D - y_pred_prob * p_D +\n",
        "     y_pred_prob * true_base_rate - p_D * true_base_rate)\n",
        ")"
      ]
    },
    {
      "cell_type": "code",
      "execution_count": 45,
      "metadata": {
        "colab": {
          "base_uri": "https://localhost:8080/",
          "height": 600
        },
        "id": "fjUuOmDWCqv3",
        "outputId": "4514e13e-7932-48e3-c454-0280851ab299"
      },
      "outputs": [
        {
          "name": "stdout",
          "output_type": "stream",
          "text": [
            "Optimal Cutoff (Calibrated): 0.04\n",
            "Maximum NPV (Calibrated): 0.042600463602803604\n"
          ]
        },
        {
          "data": {
            "image/png": "[encoded data removed]",
            "text/plain": [
              "<Figure size 800x600 with 1 Axes>"
            ]
          },
          "metadata": {},
          "output_type": "display_data"
        }
      ],
      "source": [
        "cutoffs = np.arange(0.0, 1.0, 0.01)\n",
        "optimal_cutoff = 0\n",
        "max_npv = -np.inf\n",
        "npv_values = []\n",
        "fp_costs = []\n",
        "fn_costs = []\n",
        "tp_profits = []\n",
        "tn_profits = []\n",
        "\n",
        "for cutoff in cutoffs:\n",
        "    y_pred = (calibrated_probabilities >= cutoff).astype(int)\n",
        "    tn, fp, fn, tp = confusion_matrix(y_test, y_pred).ravel()\n",
        "\n",
        "    tn_profit = p_ND * b_TN * (tn / (tp + tn + fp + fn))\n",
        "    fp_cost = p_ND * c_FP * (fp / (tp + tn + fp + fn))\n",
        "    tp_profit = p_D * b_TP * (tp / (tp + tn + fp + fn))\n",
        "    fn_cost = p_D * c_FN * (fn / (tp + tn + fp + fn))\n",
        "    npv = tn_profit + fp_cost + tp_profit + fn_cost\n",
        "\n",
        "    npv_values.append(npv)\n",
        "    fp_costs.append(fp_cost)\n",
        "    fn_costs.append(fn_cost)\n",
        "    tp_profits.append(tp_profit)\n",
        "    tn_profits.append(tn_profit)\n",
        "\n",
        "    if npv > max_npv:\n",
        "        max_npv = npv\n",
        "        optimal_cutoff = cutoff\n",
        "\n",
        "print(\"Optimal Cutoff (Calibrated):\", optimal_cutoff)\n",
        "print(\"Maximum NPV (Calibrated):\", max_npv)\n",
        "\n",
        "\n",
        "plt.figure(figsize=(8, 6))\n",
        "plt.plot(cutoffs, npv_values, label=\"NPV\")\n",
        "plt.axvline(optimal_cutoff, color='r', linestyle='--', label=f'Optimal Cutoff = {optimal_cutoff:.2f}')\n",
        "plt.xlabel(\"Cutoff\")\n",
        "plt.ylabel(\"Net Present Value (NPV)\")\n",
        "plt.title(\"NPV vs Cutoff (Calibrated Probabilities)\")\n",
        "plt.legend()\n",
        "plt.show()\n",
        "\n"
      ]
    }
  ],
  "metadata": {
    "accelerator": "GPU",
    "colab": {
      "gpuType": "T4",
      "provenance": []
    },
    "kernelspec": {
      "display_name": "Python 3",
      "name": "python3"
    },
    "language_info": {
      "codemirror_mode": {
        "name": "ipython",
        "version": 3
      },
      "file_extension": ".py",
      "mimetype": "text/x-python",
      "name": "python",
      "nbconvert_exporter": "python",
      "pygments_lexer": "ipython3",
      "version": "3.10.8"
    },
    "latex_envs": {
      "LaTeX_envs_menu_present": true,
      "autoclose": false,
      "autocomplete": true,
      "bibliofile": "biblio.bib",
      "cite_by": "apalike",
      "current_citInitial": 1,
      "eqLabelWithNumbers": true,
      "eqNumInitial": 1,
      "hotkeys": {
        "equation": "Ctrl-E",
        "itemize": "Ctrl-I"
      },
      "labels_anchors": false,
      "latex_user_defs": false,
      "report_style_numbering": false,
      "user_envs_cfg": false
    },
    "toc": {
      "base_numbering": 1,
      "nav_menu": {},
      "number_sections": true,
      "sideBar": true,
      "skip_h1_title": false,
      "title_cell": "Table of Contents",
      "title_sidebar": "Contents",
      "toc_cell": false,
      "toc_position": {},
      "toc_section_display": true,
      "toc_window_display": false
    },
    "varInspector": {
      "cols": {
        "lenName": 16,
        "lenType": 16,
        "lenVar": 40
      },
      "kernels_config": {
        "python": {
          "delete_cmd_postfix": "",
          "delete_cmd_prefix": "del ",
          "library": "var_list.py",
          "varRefreshCmd": "print(var_dic_list())"
        },
        "r": {
          "delete_cmd_postfix": ") ",
          "delete_cmd_prefix": "rm(",
          "library": "var_list.r",
          "varRefreshCmd": "cat(var_dic_list()) "
        }
      },
      "types_to_exclude": [
        "module",
        "function",
        "builtin_function_or_method",
        "instance",
        "_Feature"
      ],
      "window_display": false
    }
  },
  "nbformat": 4,
  "nbformat_minor": 0
}
